{
 "cells": [
  {
   "cell_type": "markdown",
   "metadata": {},
   "source": [
    "### Lease"
   ]
  },
  {
   "cell_type": "code",
   "execution_count": 10,
   "metadata": {},
   "outputs": [
    {
     "data": {
      "text/html": [
       "<pre style=\"white-space:pre;overflow-x:auto;line-height:normal;font-family:Menlo,'DejaVu Sans Mono',consolas,'Courier New',monospace\"><span style=\"color: #800080; text-decoration-color: #800080; font-weight: bold\">Connecting engine server -&gt; </span><span style=\"color: #800080; text-decoration-color: #800080; font-weight: bold; text-decoration: underline\">http://localhost:8081</span>\n",
       "</pre>\n"
      ],
      "text/plain": [
       "\u001b[1;35mConnecting engine server -> \u001b[0m\u001b[1;4;35mhttp://localhost:8081\u001b[0m\n"
      ]
     },
     "metadata": {},
     "output_type": "display_data"
    },
    {
     "data": {
      "text/html": [
       "<pre style=\"white-space:pre;overflow-x:auto;line-height:normal;font-family:Menlo,'DejaVu Sans Mono',consolas,'Courier New',monospace\">✅<span style=\"color: #008000; text-decoration-color: #008000; font-weight: bold\">Connected, local lib:0.</span><span style=\"color: #008000; text-decoration-color: #008000; font-weight: bold\">26.6</span><span style=\"color: #008000; text-decoration-color: #008000; font-weight: bold\">, server:</span><span style=\"color: #008000; text-decoration-color: #008000; font-weight: bold\">0.26</span><span style=\"color: #008000; text-decoration-color: #008000; font-weight: bold\">.</span><span style=\"color: #008000; text-decoration-color: #008000; font-weight: bold\">5</span>\n",
       "</pre>\n"
      ],
      "text/plain": [
       "✅\u001b[1;32mConnected, local li\u001b[0m\u001b[1;32mb:0\u001b[0m\u001b[1;32m.\u001b[0m\u001b[1;32m26.6\u001b[0m\u001b[1;32m, server:\u001b[0m\u001b[1;32m0.26\u001b[0m\u001b[1;32m.\u001b[0m\u001b[1;32m5\u001b[0m\n"
      ]
     },
     "metadata": {},
     "output_type": "display_data"
    }
   ],
   "source": [
    "from absbox import API\n",
    "\n",
    "localAPI = API(\"http://localhost:8081\",lang='english',check=False)"
   ]
  },
  {
   "cell_type": "markdown",
   "metadata": {},
   "source": [
    "#### Simple Lease"
   ]
  },
  {
   "cell_type": "code",
   "execution_count": 11,
   "metadata": {},
   "outputs": [],
   "source": [
    "lease = [\"Lease\"\n",
    "            ,{\"fixRental\": 12.0\n",
    "            ,\"originTerm\": 24\n",
    "            ,\"freq\": [\"DayOfMonth\",15]\n",
    "            ,\"originDate\": \"2022-01-05\"\n",
    "            ,\"status\":\"Current\"\n",
    "            ,\"remainTerm\": 24}]"
   ]
  },
  {
   "cell_type": "code",
   "execution_count": 14,
   "metadata": {},
   "outputs": [
    {
     "data": {
      "text/plain": [
       "[('2022-01-15', 8388, 120),\n",
       " ('2022-02-15', 8016, 372),\n",
       " ('2022-03-15', 7680, 336),\n",
       " ('2022-04-15', 7308, 372),\n",
       " ('2022-05-15', 6948, 360),\n",
       " ('2022-06-15', 6576, 372),\n",
       " ('2022-07-15', 6216, 360),\n",
       " ('2022-08-15', 5844, 372),\n",
       " ('2022-09-15', 5472, 372),\n",
       " ('2022-10-15', 5112, 360),\n",
       " ('2022-11-15', 4740, 372),\n",
       " ('2022-12-15', 4380, 360),\n",
       " ('2023-01-15', 4008, 372),\n",
       " ('2023-02-15', 3636, 372),\n",
       " ('2023-03-15', 3300, 336),\n",
       " ('2023-04-15', 2928, 372),\n",
       " ('2023-05-15', 2568, 360),\n",
       " ('2023-06-15', 2196, 372),\n",
       " ('2023-07-15', 1836, 360),\n",
       " ('2023-08-15', 1464, 372),\n",
       " ('2023-09-15', 1092, 372),\n",
       " ('2023-10-15', 732, 360),\n",
       " ('2023-11-15', 360, 372),\n",
       " ('2023-12-15', 0, 360)]"
      ]
     },
     "execution_count": 14,
     "metadata": {},
     "output_type": "execute_result"
    }
   ],
   "source": [
    "r = localAPI.runAsset(\"2022-01-02\"\n",
    "                     ,[lease]\n",
    "                     ,poolAssump=(\"Pool\"\n",
    "                                    ,(\"Lease\", {\"Days\":30}, {\"AnnualIncrease\":0.0}, '2023-01-01')\n",
    "                                    ,None\n",
    "                                    ,None)\n",
    "                     ,read=True)\n",
    "\n",
    "list(r[0].to_records())"
   ]
  },
  {
   "cell_type": "code",
   "execution_count": null,
   "metadata": {},
   "outputs": [],
   "source": []
  }
 ],
 "metadata": {
  "kernelspec": {
   "display_name": "Python 3",
   "language": "python",
   "name": "python3"
  },
  "language_info": {
   "codemirror_mode": {
    "name": "ipython",
    "version": 3
   },
   "file_extension": ".py",
   "mimetype": "text/x-python",
   "name": "python",
   "nbconvert_exporter": "python",
   "pygments_lexer": "ipython3",
   "version": "3.11.6"
  }
 },
 "nbformat": 4,
 "nbformat_minor": 2
}
