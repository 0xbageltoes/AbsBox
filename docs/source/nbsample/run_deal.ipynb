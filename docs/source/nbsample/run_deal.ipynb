{
 "cells": [
  {
   "cell_type": "markdown",
   "id": "a5688603",
   "metadata": {},
   "source": [
    "### Three ways to run deal "
   ]
  },
  {
   "cell_type": "code",
   "execution_count": null,
   "id": "2e646c1c",
   "metadata": {},
   "outputs": [],
   "source": [
    "from absbox import API,EnginePath\n",
    "\n",
    "localAPI = API(EnginePath.DEV, lang='english', check=False)"
   ]
  },
  {
   "cell_type": "markdown",
   "id": "64b56f59",
   "metadata": {},
   "source": [
    "#### Single Run"
   ]
  },
  {
   "cell_type": "code",
   "execution_count": null,
   "id": "6db2f452",
   "metadata": {},
   "outputs": [],
   "source": [
    "from absbox import examples"
   ]
  },
  {
   "cell_type": "code",
   "execution_count": null,
   "id": "c7dc2e51",
   "metadata": {},
   "outputs": [],
   "source": [
    "myAssumption = (\"Pool\",(\"Mortgage\",{\"CDR\":0.01},None,None,None)\n",
    "                                ,None\n",
    "                                ,None)\n",
    "\n",
    "\n",
    "r = localAPI.run(examples.test01\n",
    "                ,poolAssump=myAssumption\n",
    "                ,read=True)"
   ]
  },
  {
   "cell_type": "markdown",
   "id": "751051de",
   "metadata": {},
   "source": [
    "the result `r` returned by API function `run()`."
   ]
  },
  {
   "cell_type": "markdown",
   "id": "ea339b21",
   "metadata": {},
   "source": [
    "#### Scenario Sensitivity Run"
   ]
  },
  {
   "cell_type": "markdown",
   "id": "1a0b8986",
   "metadata": {},
   "source": [
    "User can build a pool performance map and call the API function `runByScenarios`"
   ]
  },
  {
   "cell_type": "code",
   "execution_count": null,
   "id": "7f24f33a",
   "metadata": {},
   "outputs": [],
   "source": [
    "myAssumption = (\"Pool\",(\"Mortgage\",{\"CDR\":0.01},None,None,None)\n",
    "                                ,None\n",
    "                                ,None)\n",
    "\n",
    "myAssumption2 = (\"Pool\",(\"Mortgage\",None,{\"CPR\":0.01},None,None)\n",
    "                                ,None\n",
    "                                ,None)\n",
    "\n",
    "r = localAPI.runByScenarios(examples.test01\n",
    "                            ,poolAssump={\"00\":myAssumption\n",
    "                                        ,\"stressed\":myAssumption2}\n",
    "                            ,read=True)"
   ]
  },
  {
   "cell_type": "markdown",
   "id": "a1e0e565",
   "metadata": {},
   "source": [
    "The result `r` is a dict whose keys came fromt he pool assumpiton map"
   ]
  },
  {
   "cell_type": "code",
   "execution_count": null,
   "id": "ee85d1e1",
   "metadata": {
    "scrolled": true
   },
   "outputs": [],
   "source": [
    "r['00']['pool']['flow'].head()"
   ]
  },
  {
   "cell_type": "code",
   "execution_count": null,
   "id": "a532517d",
   "metadata": {
    "scrolled": true
   },
   "outputs": [],
   "source": [
    "r['stressed']['pool']['flow'].head()"
   ]
  },
  {
   "cell_type": "markdown",
   "id": "0541be7b",
   "metadata": {},
   "source": [
    "#### Structure Senstivity Run"
   ]
  },
  {
   "cell_type": "markdown",
   "id": "36ca75d9",
   "metadata": {},
   "source": [
    "To run mulitple deals with same pool/deal run assumption , user can call `runStructs()` from the API.\n",
    "\n",
    "The function will return the result as a map."
   ]
  },
  {
   "cell_type": "code",
   "execution_count": null,
   "id": "6cb13e03",
   "metadata": {},
   "outputs": [],
   "source": [
    "r = localAPI.runStructs({\"A\":examples.test01\n",
    "                         ,\"B\":examples.test02}\n",
    "                        ,read=True)"
   ]
  },
  {
   "cell_type": "code",
   "execution_count": null,
   "id": "d82d915b",
   "metadata": {},
   "outputs": [],
   "source": [
    "r['A']['bonds']['A1'].head()"
   ]
  },
  {
   "cell_type": "code",
   "execution_count": null,
   "id": "376360fe",
   "metadata": {},
   "outputs": [],
   "source": [
    "r['B']['bonds']['A1'].head()"
   ]
  },
  {
   "cell_type": "code",
   "execution_count": null,
   "id": "aea886fc",
   "metadata": {},
   "outputs": [],
   "source": []
  }
 ],
 "metadata": {
  "kernelspec": {
   "display_name": "Python 3 (ipykernel)",
   "language": "python",
   "name": "python3"
  },
  "language_info": {
   "codemirror_mode": {
    "name": "ipython",
    "version": 3
   },
   "file_extension": ".py",
   "mimetype": "text/x-python",
   "name": "python",
   "nbconvert_exporter": "python",
   "pygments_lexer": "ipython3",
   "version": "3.12.3"
  }
 },
 "nbformat": 4,
 "nbformat_minor": 5
}
