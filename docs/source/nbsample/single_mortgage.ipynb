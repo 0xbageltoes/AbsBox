{
 "cells": [
  {
   "cell_type": "markdown",
   "metadata": {},
   "source": [
    "### Mortgage"
   ]
  },
  {
   "cell_type": "code",
   "execution_count": 2,
   "metadata": {},
   "outputs": [
    {
     "data": {
      "text/html": [
       "<pre style=\"white-space:pre;overflow-x:auto;line-height:normal;font-family:Menlo,'DejaVu Sans Mono',consolas,'Courier New',monospace\"><span style=\"color: #800080; text-decoration-color: #800080; font-weight: bold\">Connecting engine server -&gt; </span><span style=\"color: #800080; text-decoration-color: #800080; font-weight: bold; text-decoration: underline\">https://absbox.org/api/dev</span>\n",
       "</pre>\n"
      ],
      "text/plain": [
       "\u001b[1;35mConnecting engine server -> \u001b[0m\u001b[1;4;35mhttps://absbox.org/api/dev\u001b[0m\n"
      ]
     },
     "metadata": {},
     "output_type": "display_data"
    },
    {
     "data": {
      "text/html": [
       "<pre style=\"white-space:pre;overflow-x:auto;line-height:normal;font-family:Menlo,'DejaVu Sans Mono',consolas,'Courier New',monospace\">✅<span style=\"color: #008000; text-decoration-color: #008000; font-weight: bold\">Connected, local lib:0.</span><span style=\"color: #008000; text-decoration-color: #008000; font-weight: bold\">26.6</span><span style=\"color: #008000; text-decoration-color: #008000; font-weight: bold\">, server:</span><span style=\"color: #008000; text-decoration-color: #008000; font-weight: bold\">0.26</span><span style=\"color: #008000; text-decoration-color: #008000; font-weight: bold\">.</span><span style=\"color: #008000; text-decoration-color: #008000; font-weight: bold\">5</span>\n",
       "</pre>\n"
      ],
      "text/plain": [
       "✅\u001b[1;32mConnected, local li\u001b[0m\u001b[1;32mb:0\u001b[0m\u001b[1;32m.\u001b[0m\u001b[1;32m26.6\u001b[0m\u001b[1;32m, server:\u001b[0m\u001b[1;32m0.26\u001b[0m\u001b[1;32m.\u001b[0m\u001b[1;32m5\u001b[0m\n"
      ]
     },
     "metadata": {},
     "output_type": "display_data"
    }
   ],
   "source": [
    "from absbox import API\n",
    "\n",
    "localAPI = API(\"https://absbox.org/api/dev\",lang='english',check=False)"
   ]
  },
  {
   "cell_type": "markdown",
   "metadata": {},
   "source": [
    "#### No Stress"
   ]
  },
  {
   "cell_type": "code",
   "execution_count": 3,
   "metadata": {},
   "outputs": [],
   "source": [
    "m = [\"Mortgage\"\n",
    "        ,{\"originBalance\": 12000.0\n",
    "            ,\"originRate\": [\"fix\",0.045]\n",
    "            ,\"originTerm\": 30\n",
    "            ,\"freq\": \"Monthly\"\n",
    "            ,\"type\": \"Level\"\n",
    "            ,\"originDate\": \"2021-02-01\"}\n",
    "        ,{\"currentBalance\": 10000.0\n",
    "            ,\"currentRate\": 0.075\n",
    "            ,\"remainTerm\": 20\n",
    "            ,\"status\": \"Current\"}]"
   ]
  },
  {
   "cell_type": "code",
   "execution_count": 8,
   "metadata": {},
   "outputs": [
    {
     "data": {
      "text/plain": [
       "[('2021-12-01', 10000., 0., 0., 0, 0, 0, 0, 0.075, None, None, 0., 0, 0, 0, 0, 0),\n",
       " ('2022-01-01', 9529.05, 470.95, 62.5, 0, 0, 0, 0, 0.075, None, None, 470.95, 0, 0, 0, 0, 0),\n",
       " ('2022-02-01', 9055.14, 473.91, 59.55, 0, 0, 0, 0, 0.075, None, None, 944.86, 0, 0, 0, 0, 0),\n",
       " ('2022-03-01', 8578.28, 476.86, 56.59, 0, 0, 0, 0, 0.075, None, None, 1421.72, 0, 0, 0, 0, 0),\n",
       " ('2022-04-01', 8098.43, 479.85, 53.61, 0, 0, 0, 0, 0.075, None, None, 1901.57, 0, 0, 0, 0, 0),\n",
       " ('2022-05-01', 7615.59, 482.84, 50.61, 0, 0, 0, 0, 0.075, None, None, 2384.41, 0, 0, 0, 0, 0),\n",
       " ('2022-06-01', 7129.72, 485.87, 47.59, 0, 0, 0, 0, 0.075, None, None, 2870.28, 0, 0, 0, 0, 0),\n",
       " ('2022-07-01', 6640.83, 488.89, 44.56, 0, 0, 0, 0, 0.075, None, None, 3359.17, 0, 0, 0, 0, 0),\n",
       " ('2022-08-01', 6148.87, 491.96, 41.5, 0, 0, 0, 0, 0.075, None, None, 3851.13, 0, 0, 0, 0, 0),\n",
       " ('2022-09-01', 5653.84, 495.03, 38.43, 0, 0, 0, 0, 0.075, None, None, 4346.16, 0, 0, 0, 0, 0),\n",
       " ('2022-10-01', 5155.71, 498.13, 35.33, 0, 0, 0, 0, 0.075, None, None, 4844.29, 0, 0, 0, 0, 0),\n",
       " ('2022-11-01', 4654.48, 501.23, 32.22, 0, 0, 0, 0, 0.075, None, None, 5345.52, 0, 0, 0, 0, 0),\n",
       " ('2022-12-01', 4150.11, 504.37, 29.09, 0, 0, 0, 0, 0.075, None, None, 5849.89, 0, 0, 0, 0, 0),\n",
       " ('2023-01-01', 3642.58, 507.53, 25.93, 0, 0, 0, 0, 0.075, None, None, 6357.42, 0, 0, 0, 0, 0),\n",
       " ('2023-02-01', 3131.89, 510.69, 22.76, 0, 0, 0, 0, 0.075, None, None, 6868.11, 0, 0, 0, 0, 0),\n",
       " ('2023-03-01', 2618.01, 513.88, 19.57, 0, 0, 0, 0, 0.075, None, None, 7381.99, 0, 0, 0, 0, 0),\n",
       " ('2023-04-01', 2100.91, 517.1, 16.36, 0, 0, 0, 0, 0.075, None, None, 7899.09, 0, 0, 0, 0, 0),\n",
       " ('2023-05-01', 1580.59, 520.32, 13.13, 0, 0, 0, 0, 0.075, None, None, 8419.41, 0, 0, 0, 0, 0),\n",
       " ('2023-06-01', 1057., 523.59, 9.87, 0, 0, 0, 0, 0.075, None, None, 8943., 0, 0, 0, 0, 0),\n",
       " ('2023-07-01', 530.15, 526.85, 6.6, 0, 0, 0, 0, 0.075, None, None, 9469.85, 0, 0, 0, 0, 0),\n",
       " ('2023-08-01', 0., 530.15, 3.31, 0, 0, 0, 0, 0.075, None, None, 10000., 0, 0, 0, 0, 0)]"
      ]
     },
     "execution_count": 8,
     "metadata": {},
     "output_type": "execute_result"
    }
   ],
   "source": [
    "r = localAPI.runAsset(\"2020-01-02\"\n",
    "                     ,[m]\n",
    "                     ,poolAssump=(\"Pool\"\n",
    "                                    ,(\"Mortgage\", None, None, None, None)\n",
    "                                    ,None\n",
    "                                    ,None)\n",
    "                     ,read=True)\n",
    "\n",
    "list(r[0].to_records())"
   ]
  },
  {
   "cell_type": "code",
   "execution_count": null,
   "metadata": {},
   "outputs": [],
   "source": []
  }
 ],
 "metadata": {
  "kernelspec": {
   "display_name": "Python 3",
   "language": "python",
   "name": "python3"
  },
  "language_info": {
   "codemirror_mode": {
    "name": "ipython",
    "version": 3
   },
   "file_extension": ".py",
   "mimetype": "text/x-python",
   "name": "python",
   "nbconvert_exporter": "python",
   "pygments_lexer": "ipython3",
   "version": "3.11.6"
  }
 },
 "nbformat": 4,
 "nbformat_minor": 2
}
