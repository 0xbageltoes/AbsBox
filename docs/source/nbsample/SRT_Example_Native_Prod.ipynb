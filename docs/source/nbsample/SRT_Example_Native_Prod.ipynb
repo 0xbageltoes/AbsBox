{
 "cells": [
  {
   "cell_type": "markdown",
   "id": "76e3281d",
   "metadata": {},
   "source": [
    "### SRT Example"
   ]
  },
  {
   "cell_type": "code",
   "execution_count": 39,
   "id": "0ed52953",
   "metadata": {},
   "outputs": [],
   "source": [
    "import pandas as pd\n",
    "pd.set_option('display.max_rows', None)"
   ]
  },
  {
   "cell_type": "markdown",
   "id": "7db52899",
   "metadata": {},
   "source": [
    "#### Deal Structure\n",
    "\n",
    "* waterfall\n",
    "  * Distribution Day : \n",
    "    * Principal : `Pro Rata` to senior (A) and protected tranche (B)\n",
    "    * Interest : \"issuer\" will pay interest to tranches\n",
    "  * End of Colleciton : allocate pool loss by move fund from collateral cash account to \"Issuer\"\n",
    "  * Closing Day: fund collateral cash account with SRT tranche balance\n",
    "  * Clean up: when deal was called, pay all cash from collateral cash account to protected tranche (B)\n",
    "  "
   ]
  },
  {
   "cell_type": "code",
   "execution_count": 40,
   "id": "3696a851",
   "metadata": {},
   "outputs": [],
   "source": [
    "from absbox import Generic\n",
    "\n",
    "seniorBalance = 1000\n",
    "srtTrancheBal = 200\n",
    "srtRate = 0.08\n",
    "closingDate = \"2021-06-15\"\n",
    "periodPrincipal = (\"curPoolCollection\", None, \"Principal\",\"Prepayment\",\"Recovery\")\n",
    "reinvestRate = 0.00\n",
    "\n",
    "\n",
    "srt01 = Generic(\n",
    "    \"SRT Example\"\n",
    "    ,{\"cutoff\":\"2021-06-01\",\"closing\":closingDate,\"firstPay\":\"2021-07-20\"\n",
    "     ,\"payFreq\":[\"DayOfMonth\",20],\"poolFreq\":\"MonthEnd\",\"stated\":\"2030-01-01\"}\n",
    "    ,{'assets':[[\"Mortgage\"\n",
    "        ,{\"originBalance\":2200,\"originRate\":[\"fix\",0.045],\"originTerm\":24\n",
    "          ,\"freq\":\"Monthly\",\"type\":\"Level\",\"originDate\":\"2021-06-01\"}\n",
    "          ,{\"currentBalance\":2200\n",
    "          ,\"currentRate\":0.08\n",
    "          ,\"remainTerm\":24\n",
    "          ,\"status\":\"current\"}]],\n",
    "     }\n",
    "    ,((\"acc01\",{\"balance\":0})\n",
    "      ,(\"srtAcc\",{\"balance\":0.0\n",
    "                  ,\"interest\":{\"period\":\"QuarterEnd\"\n",
    "                               ,\"rate\":reinvestRate\n",
    "                               ,\"lastSettleDate\":closingDate}})\n",
    "      ,(\"dummy\",{\"balance\":0.0})\n",
    "      ,)\n",
    "    ,((\"A1\",{\"balance\":seniorBalance\n",
    "             ,\"rate\":0.00\n",
    "             ,\"originBalance\":seniorBalance\n",
    "             ,\"originRate\":0.00\n",
    "             ,\"startDate\":closingDate\n",
    "             ,\"rateType\":{\"Fixed\":0.00}\n",
    "             ,\"bondType\":{\"Sequential\":None}})\n",
    "      ,(\"B\",{\"balance\":0.0\n",
    "             ,\"rate\":srtRate\n",
    "             ,\"originBalance\":0\n",
    "             ,\"originRate\":srtRate\n",
    "             ,\"startDate\":closingDate\n",
    "             ,\"rateType\":{\"Fixed\":srtRate}\n",
    "             ,\"bondType\":{\"Sequential\":None}\n",
    "             }))\n",
    "    ,tuple()\n",
    "    ,{\"amortizing\":[\n",
    "          # pay prorata to senior and SRT tranch\n",
    "         ['accrueAndPayInt',\"dummy\",[\"A1\"],{\"support\":[\"facility\",\"originator\"]}]\n",
    "         ,[\"calcInt\",\"B\"]\n",
    "         ,[\"payInt\",\"dummy\",[\"B\"],{\"support\":[\"facility\",\"originator\"]}]\n",
    "\n",
    "         ,[\"calcBondPrin\",[\"A1\",\"B\"],{\"formula\":periodPrincipal}] \n",
    "\n",
    "         ,[\"payPrinWithDue\",\"acc01\",[\"A1\"]]         \n",
    "         ,[\"payPrinWithDue\",\"srtAcc\",[\"B\"]]\n",
    "\n",
    "     ],\n",
    "      \"closingDay\":[\n",
    "                    [\"fundWith\",\"srtAcc\",\"B\",{\"formula\":(\"const\",srtTrancheBal)}]\n",
    "                   ],\n",
    "      \"endOfCollection\":[\n",
    "          # draw loss amount and pay to originator\n",
    "          [\"liqRepayResidual\",\"srtAcc\", \"originator\", {\"formula\":(\"curPoolCollection\",None,\"Losses\")}]\n",
    "      ],\n",
    "      \"cleanUp\":[\n",
    "          [\"payIntResidual\",\"srtAcc\",\"B\"]\n",
    "      ]\n",
    "     }\n",
    "    ,[[\"CollectedInterest\",\"acc01\"]\n",
    "      ,[\"CollectedPrincipal\",\"acc01\"]\n",
    "      ,[\"CollectedPrepayment\",\"acc01\"]\n",
    "      ,[\"CollectedRecoveries\",\"acc01\"]]\n",
    "    ,{\"originator\":{\"type\" : \"Unlimited\", \"start\": closingDate}}\n",
    "    ,None\n",
    "    ,None\n",
    "    ,None\n",
    "    ,(\"PreClosing\",\"Amortizing\")\n",
    "    )"
   ]
  },
  {
   "cell_type": "code",
   "execution_count": 41,
   "id": "e4aabb0c",
   "metadata": {},
   "outputs": [
    {
     "data": {
      "text/html": [
       "<pre style=\"white-space:pre;overflow-x:auto;line-height:normal;font-family:Menlo,'DejaVu Sans Mono',consolas,'Courier New',monospace\"><span style=\"color: #800080; text-decoration-color: #800080; font-weight: bold\">Connecting engine server -&gt; </span><span style=\"color: #800080; text-decoration-color: #800080; font-weight: bold; text-decoration: underline\">https://absbox.org/api/dev</span>\n",
       "</pre>\n"
      ],
      "text/plain": [
       "\u001b[1;35mConnecting engine server -> \u001b[0m\u001b[1;4;35mhttps://absbox.org/api/dev\u001b[0m\n"
      ]
     },
     "metadata": {},
     "output_type": "display_data"
    },
    {
     "data": {
      "text/html": [
       "<pre style=\"white-space:pre;overflow-x:auto;line-height:normal;font-family:Menlo,'DejaVu Sans Mono',consolas,'Courier New',monospace\">✅<span style=\"color: #008000; text-decoration-color: #008000; font-weight: bold\">Connected, local lib:0.</span><span style=\"color: #008000; text-decoration-color: #008000; font-weight: bold\">26.4</span><span style=\"color: #008000; text-decoration-color: #008000; font-weight: bold\">, server:</span><span style=\"color: #008000; text-decoration-color: #008000; font-weight: bold\">0.27</span><span style=\"color: #008000; text-decoration-color: #008000; font-weight: bold\">.</span><span style=\"color: #008000; text-decoration-color: #008000; font-weight: bold\">17</span>\n",
       "</pre>\n"
      ],
      "text/plain": [
       "✅\u001b[1;32mConnected, local li\u001b[0m\u001b[1;32mb:0\u001b[0m\u001b[1;32m.\u001b[0m\u001b[1;32m26.4\u001b[0m\u001b[1;32m, server:\u001b[0m\u001b[1;32m0.27\u001b[0m\u001b[1;32m.\u001b[0m\u001b[1;32m17\u001b[0m\n"
      ]
     },
     "metadata": {},
     "output_type": "display_data"
    },
    {
     "data": {
      "text/html": [
       "<pre style=\"white-space:pre;overflow-x:auto;line-height:normal;font-family:Menlo,'DejaVu Sans Mono',consolas,'Courier New',monospace\">Warning Message from server:\n",
       "<span style=\"color: #808000; text-decoration-color: #808000; font-weight: bold\">Bond B is not paid off</span>\n",
       "<span style=\"color: #808000; text-decoration-color: #808000; font-weight: bold\">Account acc01 has cash to be distributed</span>\n",
       "<span style=\"color: #808000; text-decoration-color: #808000; font-weight: bold\">LiquidityProvider originator is not paid off</span>\n",
       "</pre>\n"
      ],
      "text/plain": [
       "Warning Message from server:\n",
       "\u001b[1;33mBond B is not paid off\u001b[0m\n",
       "\u001b[1;33mAccount acc01 has cash to be distributed\u001b[0m\n",
       "\u001b[1;33mLiquidityProvider originator is not paid off\u001b[0m\n"
      ]
     },
     "metadata": {},
     "output_type": "display_data"
    }
   ],
   "source": [
    "from absbox import API,EnginePath\n",
    "\n",
    "localAPI = API(EnginePath.DEV, lang='english', check=False)\n",
    "\n",
    "r = localAPI.run(srt01\n",
    "                ,poolAssump=(\"Pool\",(\"Mortgage\", {\"CDR\":0.01}, None, None, None)\n",
    "                                   ,None\n",
    "                                   ,None)\n",
    "                ,runAssump=[(\"call\",(\"poolFactor\",0.10))]\n",
    "                ,read=True)"
   ]
  },
  {
   "cell_type": "markdown",
   "id": "4fea9e73",
   "metadata": {},
   "source": [
    "#### View Bond Cashflow"
   ]
  },
  {
   "cell_type": "code",
   "execution_count": 42,
   "id": "7594eedd",
   "metadata": {},
   "outputs": [
    {
     "data": {
      "text/html": [
       "<div>\n",
       "<style scoped>\n",
       "    .dataframe tbody tr th:only-of-type {\n",
       "        vertical-align: middle;\n",
       "    }\n",
       "\n",
       "    .dataframe tbody tr th {\n",
       "        vertical-align: top;\n",
       "    }\n",
       "\n",
       "    .dataframe thead tr th {\n",
       "        text-align: left;\n",
       "    }\n",
       "\n",
       "    .dataframe thead tr:last-of-type th {\n",
       "        text-align: right;\n",
       "    }\n",
       "</style>\n",
       "<table border=\"1\" class=\"dataframe\">\n",
       "  <thead>\n",
       "    <tr>\n",
       "      <th>Bond</th>\n",
       "      <th colspan=\"5\" halign=\"left\">A1</th>\n",
       "      <th colspan=\"5\" halign=\"left\">B</th>\n",
       "    </tr>\n",
       "    <tr>\n",
       "      <th>Field</th>\n",
       "      <th>balance</th>\n",
       "      <th>interest</th>\n",
       "      <th>principal</th>\n",
       "      <th>rate</th>\n",
       "      <th>cash</th>\n",
       "      <th>balance</th>\n",
       "      <th>interest</th>\n",
       "      <th>principal</th>\n",
       "      <th>rate</th>\n",
       "      <th>cash</th>\n",
       "    </tr>\n",
       "    <tr>\n",
       "      <th>date</th>\n",
       "      <th></th>\n",
       "      <th></th>\n",
       "      <th></th>\n",
       "      <th></th>\n",
       "      <th></th>\n",
       "      <th></th>\n",
       "      <th></th>\n",
       "      <th></th>\n",
       "      <th></th>\n",
       "      <th></th>\n",
       "    </tr>\n",
       "  </thead>\n",
       "  <tbody>\n",
       "    <tr>\n",
       "      <th>2021-06-15</th>\n",
       "      <td>NaN</td>\n",
       "      <td>NaN</td>\n",
       "      <td>NaN</td>\n",
       "      <td>NaN</td>\n",
       "      <td>NaN</td>\n",
       "      <td>200.00</td>\n",
       "      <td>0.00</td>\n",
       "      <td>-200.00</td>\n",
       "      <td>0.00</td>\n",
       "      <td>0.00</td>\n",
       "    </tr>\n",
       "    <tr>\n",
       "      <th>2021-07-20</th>\n",
       "      <td>1000.00</td>\n",
       "      <td>0.0</td>\n",
       "      <td>0.00</td>\n",
       "      <td>0.0</td>\n",
       "      <td>0.00</td>\n",
       "      <td>200.00</td>\n",
       "      <td>1.53</td>\n",
       "      <td>0.00</td>\n",
       "      <td>0.08</td>\n",
       "      <td>1.53</td>\n",
       "    </tr>\n",
       "    <tr>\n",
       "      <th>2021-08-20</th>\n",
       "      <td>929.37</td>\n",
       "      <td>0.0</td>\n",
       "      <td>70.63</td>\n",
       "      <td>0.0</td>\n",
       "      <td>70.63</td>\n",
       "      <td>185.88</td>\n",
       "      <td>1.35</td>\n",
       "      <td>14.12</td>\n",
       "      <td>0.08</td>\n",
       "      <td>15.47</td>\n",
       "    </tr>\n",
       "    <tr>\n",
       "      <th>2021-09-20</th>\n",
       "      <td>858.33</td>\n",
       "      <td>0.0</td>\n",
       "      <td>71.04</td>\n",
       "      <td>0.0</td>\n",
       "      <td>71.04</td>\n",
       "      <td>171.67</td>\n",
       "      <td>1.26</td>\n",
       "      <td>14.21</td>\n",
       "      <td>0.08</td>\n",
       "      <td>15.47</td>\n",
       "    </tr>\n",
       "    <tr>\n",
       "      <th>2021-10-20</th>\n",
       "      <td>786.88</td>\n",
       "      <td>0.0</td>\n",
       "      <td>71.45</td>\n",
       "      <td>0.0</td>\n",
       "      <td>71.45</td>\n",
       "      <td>157.38</td>\n",
       "      <td>1.12</td>\n",
       "      <td>14.29</td>\n",
       "      <td>0.08</td>\n",
       "      <td>15.41</td>\n",
       "    </tr>\n",
       "  </tbody>\n",
       "</table>\n",
       "</div>"
      ],
      "text/plain": [
       "Bond             A1                                      B                     \\\n",
       "Field       balance interest principal rate   cash balance interest principal   \n",
       "date                                                                            \n",
       "2021-06-15      NaN      NaN       NaN  NaN    NaN  200.00     0.00   -200.00   \n",
       "2021-07-20  1000.00      0.0      0.00  0.0   0.00  200.00     1.53      0.00   \n",
       "2021-08-20   929.37      0.0     70.63  0.0  70.63  185.88     1.35     14.12   \n",
       "2021-09-20   858.33      0.0     71.04  0.0  71.04  171.67     1.26     14.21   \n",
       "2021-10-20   786.88      0.0     71.45  0.0  71.45  157.38     1.12     14.29   \n",
       "\n",
       "Bond                     \n",
       "Field       rate   cash  \n",
       "date                     \n",
       "2021-06-15  0.00   0.00  \n",
       "2021-07-20  0.08   1.53  \n",
       "2021-08-20  0.08  15.47  \n",
       "2021-09-20  0.08  15.47  \n",
       "2021-10-20  0.08  15.41  "
      ]
     },
     "execution_count": 42,
     "metadata": {},
     "output_type": "execute_result"
    }
   ],
   "source": [
    "from absbox import readBondsCf\n",
    "\n",
    "readBondsCf(r['bonds']).head()"
   ]
  },
  {
   "cell_type": "markdown",
   "id": "24c86e6b",
   "metadata": {},
   "source": [
    "#### Pool Loss metrics"
   ]
  },
  {
   "cell_type": "markdown",
   "id": "fdc15e80",
   "metadata": {},
   "source": [
    "Here, we can identify total pool loss is `23.11`"
   ]
  },
  {
   "cell_type": "code",
   "execution_count": 43,
   "id": "46e3a376",
   "metadata": {},
   "outputs": [
    {
     "data": {
      "text/plain": [
       "23.11"
      ]
     },
     "execution_count": 43,
     "metadata": {},
     "output_type": "execute_result"
    }
   ],
   "source": [
    "r['pool']['flow'].Loss.sum()"
   ]
  },
  {
   "cell_type": "markdown",
   "id": "21519905",
   "metadata": {},
   "source": [
    "How much pool loss was cured via SRT traction ? we can filter out transaction in the `srtAcc` ,the collateral cash account draw out "
   ]
  },
  {
   "cell_type": "code",
   "execution_count": 44,
   "id": "d6cbc863",
   "metadata": {},
   "outputs": [
    {
     "data": {
      "text/html": [
       "<div>\n",
       "<style scoped>\n",
       "    .dataframe tbody tr th:only-of-type {\n",
       "        vertical-align: middle;\n",
       "    }\n",
       "\n",
       "    .dataframe tbody tr th {\n",
       "        vertical-align: top;\n",
       "    }\n",
       "\n",
       "    .dataframe thead th {\n",
       "        text-align: right;\n",
       "    }\n",
       "</style>\n",
       "<table border=\"1\" class=\"dataframe\">\n",
       "  <thead>\n",
       "    <tr style=\"text-align: right;\">\n",
       "      <th></th>\n",
       "      <th>balance</th>\n",
       "      <th>change</th>\n",
       "      <th>memo</th>\n",
       "    </tr>\n",
       "    <tr>\n",
       "      <th>date</th>\n",
       "      <th></th>\n",
       "      <th></th>\n",
       "      <th></th>\n",
       "    </tr>\n",
       "  </thead>\n",
       "  <tbody>\n",
       "    <tr>\n",
       "      <th>2021-06-15</th>\n",
       "      <td>200.00</td>\n",
       "      <td>0.00</td>\n",
       "      <td>&lt;Support:originator&gt;</td>\n",
       "    </tr>\n",
       "    <tr>\n",
       "      <th>2021-06-30</th>\n",
       "      <td>200.00</td>\n",
       "      <td>0.00</td>\n",
       "      <td>&lt;Support:originator&gt;</td>\n",
       "    </tr>\n",
       "    <tr>\n",
       "      <th>2021-07-31</th>\n",
       "      <td>198.19</td>\n",
       "      <td>-1.81</td>\n",
       "      <td>&lt;Support:originator&gt;</td>\n",
       "    </tr>\n",
       "    <tr>\n",
       "      <th>2021-08-31</th>\n",
       "      <td>182.27</td>\n",
       "      <td>-1.80</td>\n",
       "      <td>&lt;Support:originator&gt;</td>\n",
       "    </tr>\n",
       "    <tr>\n",
       "      <th>2021-09-30</th>\n",
       "      <td>166.34</td>\n",
       "      <td>-1.72</td>\n",
       "      <td>&lt;Support:originator&gt;</td>\n",
       "    </tr>\n",
       "  </tbody>\n",
       "</table>\n",
       "</div>"
      ],
      "text/plain": [
       "            balance  change                  memo\n",
       "date                                             \n",
       "2021-06-15   200.00    0.00  <Support:originator>\n",
       "2021-06-30   200.00    0.00  <Support:originator>\n",
       "2021-07-31   198.19   -1.81  <Support:originator>\n",
       "2021-08-31   182.27   -1.80  <Support:originator>\n",
       "2021-09-30   166.34   -1.72  <Support:originator>"
      ]
     },
     "execution_count": 44,
     "metadata": {},
     "output_type": "execute_result"
    }
   ],
   "source": [
    "r['accounts']['srtAcc'].loc[lambda df: df.memo == \"<Support:originator>\"].head()"
   ]
  },
  {
   "cell_type": "markdown",
   "id": "6a15057c",
   "metadata": {},
   "source": [
    "Summing up all loss cured by SRT account, that's total cured `18.11`"
   ]
  },
  {
   "cell_type": "code",
   "execution_count": 45,
   "id": "6107b7b4",
   "metadata": {},
   "outputs": [
    {
     "data": {
      "text/plain": [
       "-18.11"
      ]
     },
     "execution_count": 45,
     "metadata": {},
     "output_type": "execute_result"
    }
   ],
   "source": [
    "r['accounts']['srtAcc'].loc[lambda df: df.memo == \"<Support:originator>\"].change.sum()"
   ]
  },
  {
   "cell_type": "markdown",
   "id": "455ec929",
   "metadata": {},
   "source": [
    "We can tie out `18.11` loss in the SRT tranche (B). There 18.11 oustanding balance at end of projection."
   ]
  },
  {
   "cell_type": "code",
   "execution_count": 46,
   "id": "72b5f6f4",
   "metadata": {},
   "outputs": [
    {
     "data": {
      "text/html": [
       "<div>\n",
       "<style scoped>\n",
       "    .dataframe tbody tr th:only-of-type {\n",
       "        vertical-align: middle;\n",
       "    }\n",
       "\n",
       "    .dataframe tbody tr th {\n",
       "        vertical-align: top;\n",
       "    }\n",
       "\n",
       "    .dataframe thead th {\n",
       "        text-align: right;\n",
       "    }\n",
       "</style>\n",
       "<table border=\"1\" class=\"dataframe\">\n",
       "  <thead>\n",
       "    <tr style=\"text-align: right;\">\n",
       "      <th></th>\n",
       "      <th>balance</th>\n",
       "      <th>interest</th>\n",
       "      <th>principal</th>\n",
       "      <th>rate</th>\n",
       "      <th>cash</th>\n",
       "      <th>factor</th>\n",
       "      <th>memo</th>\n",
       "    </tr>\n",
       "    <tr>\n",
       "      <th>date</th>\n",
       "      <th></th>\n",
       "      <th></th>\n",
       "      <th></th>\n",
       "      <th></th>\n",
       "      <th></th>\n",
       "      <th></th>\n",
       "      <th></th>\n",
       "    </tr>\n",
       "  </thead>\n",
       "  <tbody>\n",
       "    <tr>\n",
       "      <th>2023-01-20</th>\n",
       "      <td>18.11</td>\n",
       "      <td>0.12</td>\n",
       "      <td>0.0</td>\n",
       "      <td>0.08</td>\n",
       "      <td>0.12</td>\n",
       "      <td>None</td>\n",
       "      <td>[&lt;PayInt:B&gt;, &lt;PayPrin:B&gt;]</td>\n",
       "    </tr>\n",
       "    <tr>\n",
       "      <th>2023-02-20</th>\n",
       "      <td>18.11</td>\n",
       "      <td>0.12</td>\n",
       "      <td>0.0</td>\n",
       "      <td>0.08</td>\n",
       "      <td>0.12</td>\n",
       "      <td>None</td>\n",
       "      <td>[&lt;PayInt:B&gt;, &lt;PayPrin:B&gt;]</td>\n",
       "    </tr>\n",
       "    <tr>\n",
       "      <th>2023-03-20</th>\n",
       "      <td>18.11</td>\n",
       "      <td>0.11</td>\n",
       "      <td>0.0</td>\n",
       "      <td>0.08</td>\n",
       "      <td>0.11</td>\n",
       "      <td>None</td>\n",
       "      <td>[&lt;PayInt:B&gt;, &lt;PayPrin:B&gt;]</td>\n",
       "    </tr>\n",
       "    <tr>\n",
       "      <th>2023-04-20</th>\n",
       "      <td>18.11</td>\n",
       "      <td>0.12</td>\n",
       "      <td>0.0</td>\n",
       "      <td>0.08</td>\n",
       "      <td>0.12</td>\n",
       "      <td>None</td>\n",
       "      <td>[&lt;PayInt:B&gt;, &lt;PayPrin:B&gt;]</td>\n",
       "    </tr>\n",
       "    <tr>\n",
       "      <th>2023-05-20</th>\n",
       "      <td>18.11</td>\n",
       "      <td>0.11</td>\n",
       "      <td>0.0</td>\n",
       "      <td>0.08</td>\n",
       "      <td>0.11</td>\n",
       "      <td>None</td>\n",
       "      <td>[[&lt;PayInt:B&gt;, &lt;PayPrin:B&gt;], &lt;PayYield:B&gt;]</td>\n",
       "    </tr>\n",
       "  </tbody>\n",
       "</table>\n",
       "</div>"
      ],
      "text/plain": [
       "            balance  interest  principal  rate  cash factor  \\\n",
       "date                                                          \n",
       "2023-01-20    18.11      0.12        0.0  0.08  0.12   None   \n",
       "2023-02-20    18.11      0.12        0.0  0.08  0.12   None   \n",
       "2023-03-20    18.11      0.11        0.0  0.08  0.11   None   \n",
       "2023-04-20    18.11      0.12        0.0  0.08  0.12   None   \n",
       "2023-05-20    18.11      0.11        0.0  0.08  0.11   None   \n",
       "\n",
       "                                                 memo  \n",
       "date                                                   \n",
       "2023-01-20                  [<PayInt:B>, <PayPrin:B>]  \n",
       "2023-02-20                  [<PayInt:B>, <PayPrin:B>]  \n",
       "2023-03-20                  [<PayInt:B>, <PayPrin:B>]  \n",
       "2023-04-20                  [<PayInt:B>, <PayPrin:B>]  \n",
       "2023-05-20  [[<PayInt:B>, <PayPrin:B>], <PayYield:B>]  "
      ]
     },
     "execution_count": 46,
     "metadata": {},
     "output_type": "execute_result"
    }
   ],
   "source": [
    "r['bonds']['B'].tail()"
   ]
  },
  {
   "cell_type": "markdown",
   "id": "0308ce41",
   "metadata": {},
   "source": [
    "#### Return of SRT transaction\n",
    "\n",
    "Let's calculate the IRR of protect tranche"
   ]
  },
  {
   "cell_type": "code",
   "execution_count": 47,
   "id": "b5cbb05d",
   "metadata": {},
   "outputs": [
    {
     "data": {
      "text/html": [
       "<div>\n",
       "<style scoped>\n",
       "    .dataframe tbody tr th:only-of-type {\n",
       "        vertical-align: middle;\n",
       "    }\n",
       "\n",
       "    .dataframe tbody tr th {\n",
       "        vertical-align: top;\n",
       "    }\n",
       "\n",
       "    .dataframe thead th {\n",
       "        text-align: right;\n",
       "    }\n",
       "</style>\n",
       "<table border=\"1\" class=\"dataframe\">\n",
       "  <thead>\n",
       "    <tr style=\"text-align: right;\">\n",
       "      <th></th>\n",
       "      <th>balance</th>\n",
       "      <th>interest</th>\n",
       "      <th>principal</th>\n",
       "      <th>rate</th>\n",
       "      <th>cash</th>\n",
       "      <th>factor</th>\n",
       "      <th>memo</th>\n",
       "    </tr>\n",
       "    <tr>\n",
       "      <th>date</th>\n",
       "      <th></th>\n",
       "      <th></th>\n",
       "      <th></th>\n",
       "      <th></th>\n",
       "      <th></th>\n",
       "      <th></th>\n",
       "      <th></th>\n",
       "    </tr>\n",
       "  </thead>\n",
       "  <tbody>\n",
       "    <tr>\n",
       "      <th>2021-06-15</th>\n",
       "      <td>200.00</td>\n",
       "      <td>0.00</td>\n",
       "      <td>-200.00</td>\n",
       "      <td>0.00</td>\n",
       "      <td>0.00</td>\n",
       "      <td>None</td>\n",
       "      <td>&lt;FundWith:B,200.00&gt;</td>\n",
       "    </tr>\n",
       "    <tr>\n",
       "      <th>2021-07-20</th>\n",
       "      <td>200.00</td>\n",
       "      <td>1.53</td>\n",
       "      <td>0.00</td>\n",
       "      <td>0.08</td>\n",
       "      <td>1.53</td>\n",
       "      <td>None</td>\n",
       "      <td>[&lt;PayInt:B&gt;, &lt;PayPrin:B&gt;]</td>\n",
       "    </tr>\n",
       "    <tr>\n",
       "      <th>2021-08-20</th>\n",
       "      <td>185.88</td>\n",
       "      <td>1.35</td>\n",
       "      <td>14.12</td>\n",
       "      <td>0.08</td>\n",
       "      <td>15.47</td>\n",
       "      <td>None</td>\n",
       "      <td>[&lt;PayInt:B&gt;, &lt;PayPrin:B&gt;]</td>\n",
       "    </tr>\n",
       "    <tr>\n",
       "      <th>2021-09-20</th>\n",
       "      <td>171.67</td>\n",
       "      <td>1.26</td>\n",
       "      <td>14.21</td>\n",
       "      <td>0.08</td>\n",
       "      <td>15.47</td>\n",
       "      <td>None</td>\n",
       "      <td>[&lt;PayInt:B&gt;, &lt;PayPrin:B&gt;]</td>\n",
       "    </tr>\n",
       "    <tr>\n",
       "      <th>2021-10-20</th>\n",
       "      <td>157.38</td>\n",
       "      <td>1.12</td>\n",
       "      <td>14.29</td>\n",
       "      <td>0.08</td>\n",
       "      <td>15.41</td>\n",
       "      <td>None</td>\n",
       "      <td>[&lt;PayInt:B&gt;, &lt;PayPrin:B&gt;]</td>\n",
       "    </tr>\n",
       "  </tbody>\n",
       "</table>\n",
       "</div>"
      ],
      "text/plain": [
       "            balance  interest  principal  rate   cash factor  \\\n",
       "date                                                           \n",
       "2021-06-15   200.00      0.00    -200.00  0.00   0.00   None   \n",
       "2021-07-20   200.00      1.53       0.00  0.08   1.53   None   \n",
       "2021-08-20   185.88      1.35      14.12  0.08  15.47   None   \n",
       "2021-09-20   171.67      1.26      14.21  0.08  15.47   None   \n",
       "2021-10-20   157.38      1.12      14.29  0.08  15.41   None   \n",
       "\n",
       "                                 memo  \n",
       "date                                   \n",
       "2021-06-15        <FundWith:B,200.00>  \n",
       "2021-07-20  [<PayInt:B>, <PayPrin:B>]  \n",
       "2021-08-20  [<PayInt:B>, <PayPrin:B>]  \n",
       "2021-09-20  [<PayInt:B>, <PayPrin:B>]  \n",
       "2021-10-20  [<PayInt:B>, <PayPrin:B>]  "
      ]
     },
     "execution_count": 47,
     "metadata": {},
     "output_type": "execute_result"
    }
   ],
   "source": [
    "r['bonds']['B'].head()"
   ]
  },
  {
   "cell_type": "markdown",
   "id": "96c1d3e0",
   "metadata": {},
   "source": [
    "Let's build a simple irr function"
   ]
  },
  {
   "cell_type": "code",
   "execution_count": 48,
   "id": "ac4e0851",
   "metadata": {},
   "outputs": [
    {
     "data": {
      "text/plain": [
       "-0.04323574436198406"
      ]
     },
     "execution_count": 48,
     "metadata": {},
     "output_type": "execute_result"
    }
   ],
   "source": [
    "from pyxirr import xirr\n",
    "\n",
    "def calcIRR(df, init):\n",
    "    investDate,investAmount = init\n",
    "    ds = [investDate] + df.index.to_list()\n",
    "    vs = [investAmount] + df.cash.to_list()\n",
    "    return xirr(ds, vs)\n",
    "\n",
    "calcIRR(r['bonds']['B'], (\"2021-06-15\",-200))"
   ]
  },
  {
   "cell_type": "markdown",
   "id": "9c21274d",
   "metadata": {},
   "source": [
    "##### Sensitiviy Analysis : Pool Perf vs. IRR\n",
    "\n",
    "let's assump how different prepayment behavior would impact on the IRR\n",
    "\n",
    "1. build an assumption Map\n",
    "2. run with ..runByScenarios()\n"
   ]
  },
  {
   "cell_type": "code",
   "execution_count": 49,
   "id": "fc360467",
   "metadata": {},
   "outputs": [
    {
     "data": {
      "text/html": [
       "<pre style=\"white-space:pre;overflow-x:auto;line-height:normal;font-family:Menlo,'DejaVu Sans Mono',consolas,'Courier New',monospace\">Warning Message from server:\n",
       "<span style=\"color: #808000; text-decoration-color: #808000; font-weight: bold\">Account acc01 has cash to be distributed</span>\n",
       "<span style=\"color: #808000; text-decoration-color: #808000; font-weight: bold\">LiquidityProvider originator is not paid off</span>\n",
       "<span style=\"color: #808000; text-decoration-color: #808000; font-weight: bold\">Account acc01 has cash to be distributed</span>\n",
       "<span style=\"color: #808000; text-decoration-color: #808000; font-weight: bold\">LiquidityProvider originator is not paid off</span>\n",
       "<span style=\"color: #808000; text-decoration-color: #808000; font-weight: bold\">Account acc01 has cash to be distributed</span>\n",
       "<span style=\"color: #808000; text-decoration-color: #808000; font-weight: bold\">LiquidityProvider originator is not paid off</span>\n",
       "</pre>\n"
      ],
      "text/plain": [
       "Warning Message from server:\n",
       "\u001b[1;33mAccount acc01 has cash to be distributed\u001b[0m\n",
       "\u001b[1;33mLiquidityProvider originator is not paid off\u001b[0m\n",
       "\u001b[1;33mAccount acc01 has cash to be distributed\u001b[0m\n",
       "\u001b[1;33mLiquidityProvider originator is not paid off\u001b[0m\n",
       "\u001b[1;33mAccount acc01 has cash to be distributed\u001b[0m\n",
       "\u001b[1;33mLiquidityProvider originator is not paid off\u001b[0m\n"
      ]
     },
     "metadata": {},
     "output_type": "display_data"
    }
   ],
   "source": [
    "from lenses import lens\n",
    "\n",
    "myAssumption = (\"Pool\",(\"Mortgage\",None,None,None,None)\n",
    "                                ,None\n",
    "                                ,None)\n",
    "myAssumption2 = myAssumption & lens[1][2].set({\"CPR\":0.01})\n",
    "myAssumption3 = myAssumption & lens[1][2].set({\"CPR\":0.02})\n",
    "\n",
    "\n",
    "rs = localAPI.runByScenarios(srt01\n",
    "                            ,poolAssump={\"CPR-0\":myAssumption\n",
    "                                        ,\"CPR-1\":myAssumption2\n",
    "                                        ,\"CPR-2\":myAssumption3\n",
    "                                       }\n",
    "                            ,read=True)"
   ]
  },
  {
   "cell_type": "markdown",
   "id": "d6a832fe",
   "metadata": {},
   "source": [
    "View pool cashflow from multiple scenarios"
   ]
  },
  {
   "cell_type": "code",
   "execution_count": 50,
   "id": "d7f1c1b9",
   "metadata": {},
   "outputs": [
    {
     "data": {
      "text/html": [
       "<div>\n",
       "<style scoped>\n",
       "    .dataframe tbody tr th:only-of-type {\n",
       "        vertical-align: middle;\n",
       "    }\n",
       "\n",
       "    .dataframe tbody tr th {\n",
       "        vertical-align: top;\n",
       "    }\n",
       "\n",
       "    .dataframe thead tr th {\n",
       "        text-align: left;\n",
       "    }\n",
       "\n",
       "    .dataframe thead tr:last-of-type th {\n",
       "        text-align: right;\n",
       "    }\n",
       "</style>\n",
       "<table border=\"1\" class=\"dataframe\">\n",
       "  <thead>\n",
       "    <tr>\n",
       "      <th>Scenario</th>\n",
       "      <th colspan=\"2\" halign=\"left\">CPR-0</th>\n",
       "      <th colspan=\"2\" halign=\"left\">CPR-1</th>\n",
       "      <th colspan=\"2\" halign=\"left\">CPR-2</th>\n",
       "    </tr>\n",
       "    <tr>\n",
       "      <th>Field</th>\n",
       "      <th>Balance</th>\n",
       "      <th>Prepayment</th>\n",
       "      <th>Balance</th>\n",
       "      <th>Prepayment</th>\n",
       "      <th>Balance</th>\n",
       "      <th>Prepayment</th>\n",
       "    </tr>\n",
       "    <tr>\n",
       "      <th>Date</th>\n",
       "      <th></th>\n",
       "      <th></th>\n",
       "      <th></th>\n",
       "      <th></th>\n",
       "      <th></th>\n",
       "      <th></th>\n",
       "    </tr>\n",
       "  </thead>\n",
       "  <tbody>\n",
       "    <tr>\n",
       "      <th>2021-06-15</th>\n",
       "      <td>2200.00</td>\n",
       "      <td>0</td>\n",
       "      <td>2200.00</td>\n",
       "      <td>0.00</td>\n",
       "      <td>2200.00</td>\n",
       "      <td>0.00</td>\n",
       "    </tr>\n",
       "    <tr>\n",
       "      <th>2021-06-30</th>\n",
       "      <td>2200.00</td>\n",
       "      <td>0</td>\n",
       "      <td>2200.00</td>\n",
       "      <td>0.00</td>\n",
       "      <td>2200.00</td>\n",
       "      <td>0.00</td>\n",
       "    </tr>\n",
       "    <tr>\n",
       "      <th>2021-07-31</th>\n",
       "      <td>2115.17</td>\n",
       "      <td>0</td>\n",
       "      <td>2113.43</td>\n",
       "      <td>1.81</td>\n",
       "      <td>2111.66</td>\n",
       "      <td>3.65</td>\n",
       "    </tr>\n",
       "    <tr>\n",
       "      <th>2021-08-31</th>\n",
       "      <td>2029.77</td>\n",
       "      <td>0</td>\n",
       "      <td>2026.37</td>\n",
       "      <td>1.80</td>\n",
       "      <td>2022.93</td>\n",
       "      <td>3.62</td>\n",
       "    </tr>\n",
       "    <tr>\n",
       "      <th>2021-09-30</th>\n",
       "      <td>1943.81</td>\n",
       "      <td>0</td>\n",
       "      <td>1938.90</td>\n",
       "      <td>1.72</td>\n",
       "      <td>1933.94</td>\n",
       "      <td>3.46</td>\n",
       "    </tr>\n",
       "  </tbody>\n",
       "</table>\n",
       "</div>"
      ],
      "text/plain": [
       "Scenario      CPR-0               CPR-1               CPR-2           \n",
       "Field       Balance Prepayment  Balance Prepayment  Balance Prepayment\n",
       "Date                                                                  \n",
       "2021-06-15  2200.00          0  2200.00       0.00  2200.00       0.00\n",
       "2021-06-30  2200.00          0  2200.00       0.00  2200.00       0.00\n",
       "2021-07-31  2115.17          0  2113.43       1.81  2111.66       3.65\n",
       "2021-08-31  2029.77          0  2026.37       1.80  2022.93       3.62\n",
       "2021-09-30  1943.81          0  1938.90       1.72  1933.94       3.46"
      ]
     },
     "execution_count": 50,
     "metadata": {},
     "output_type": "execute_result"
    }
   ],
   "source": [
    "from absbox import readMultiFlowsByScenarios\n",
    "readMultiFlowsByScenarios(rs, (lens['pool']['flow'],[\"Balance\",'Prepayment'])).head()"
   ]
  },
  {
   "cell_type": "code",
   "execution_count": 51,
   "id": "f9fb1138",
   "metadata": {},
   "outputs": [
    {
     "data": {
      "text/plain": [
       "{'CPR-0': 0.0822966584499679,\n",
       " 'CPR-1': 0.08250918429431883,\n",
       " 'CPR-2': 0.08235205608296689}"
      ]
     },
     "execution_count": 51,
     "metadata": {},
     "output_type": "execute_result"
    }
   ],
   "source": [
    "import toolz as tz\n",
    "\n",
    "tz.valmap(lambda x: calcIRR(x['bonds']['B'], (\"2021-06-15\",-200)), rs)"
   ]
  },
  {
   "cell_type": "markdown",
   "id": "d7d45394",
   "metadata": {},
   "source": [
    "Whoa, interesting ! CPR=1% will yield most IRR"
   ]
  },
  {
   "cell_type": "markdown",
   "id": "9d73930f",
   "metadata": {},
   "source": [
    "#### What's the protection exposure ? \n",
    "\n",
    "To what extend the current capital structure will hedge the default risk ? \n",
    "\n",
    "\n",
    "let's assump how different default stress would impact on the IRR\n",
    "\n",
    "1. build an assumption Map\n",
    "2. run with ..runByScenarios()"
   ]
  },
  {
   "cell_type": "markdown",
   "id": "0fed485d",
   "metadata": {},
   "source": [
    "##### Sensitiviy Analysis : Pool Perf vs. Exposed Loss\n",
    "\n",
    "Exposed Loss : the loss not being hedged by SRT tranche"
   ]
  },
  {
   "cell_type": "code",
   "execution_count": 52,
   "id": "82b9633b",
   "metadata": {},
   "outputs": [
    {
     "data": {
      "text/html": [
       "<pre style=\"white-space:pre;overflow-x:auto;line-height:normal;font-family:Menlo,'DejaVu Sans Mono',consolas,'Courier New',monospace\">Warning Message from server:\n",
       "<span style=\"color: #808000; text-decoration-color: #808000; font-weight: bold\">Account acc01 has cash to be distributed</span>\n",
       "<span style=\"color: #808000; text-decoration-color: #808000; font-weight: bold\">LiquidityProvider originator is not paid off</span>\n",
       "<span style=\"color: #808000; text-decoration-color: #808000; font-weight: bold\">Bond B is not paid off</span>\n",
       "<span style=\"color: #808000; text-decoration-color: #808000; font-weight: bold\">Account acc01 has cash to be distributed</span>\n",
       "<span style=\"color: #808000; text-decoration-color: #808000; font-weight: bold\">LiquidityProvider originator is not paid off</span>\n",
       "<span style=\"color: #808000; text-decoration-color: #808000; font-weight: bold\">Bond B is not paid off</span>\n",
       "<span style=\"color: #808000; text-decoration-color: #808000; font-weight: bold\">Account acc01 has cash to be distributed</span>\n",
       "<span style=\"color: #808000; text-decoration-color: #808000; font-weight: bold\">LiquidityProvider originator is not paid off</span>\n",
       "</pre>\n"
      ],
      "text/plain": [
       "Warning Message from server:\n",
       "\u001b[1;33mAccount acc01 has cash to be distributed\u001b[0m\n",
       "\u001b[1;33mLiquidityProvider originator is not paid off\u001b[0m\n",
       "\u001b[1;33mBond B is not paid off\u001b[0m\n",
       "\u001b[1;33mAccount acc01 has cash to be distributed\u001b[0m\n",
       "\u001b[1;33mLiquidityProvider originator is not paid off\u001b[0m\n",
       "\u001b[1;33mBond B is not paid off\u001b[0m\n",
       "\u001b[1;33mAccount acc01 has cash to be distributed\u001b[0m\n",
       "\u001b[1;33mLiquidityProvider originator is not paid off\u001b[0m\n"
      ]
     },
     "metadata": {},
     "output_type": "display_data"
    }
   ],
   "source": [
    "myAssumption = (\"Pool\",(\"Mortgage\",None,None,None,None)\n",
    "                                ,None\n",
    "                                ,None)\n",
    "myAssumption2 = myAssumption & lens[1][1].set({\"CDR\":0.01})\n",
    "myAssumption3 = myAssumption & lens[1][1].set({\"CDR\":0.02})\n",
    "\n",
    "\n",
    "rs = localAPI.runByScenarios(srt01\n",
    "                            ,poolAssump={\"CDR-0\":myAssumption\n",
    "                                        ,\"CDR-1\":myAssumption2\n",
    "                                        ,\"CDR-2\":myAssumption3\n",
    "                                       }\n",
    "                            ,read=True)"
   ]
  },
  {
   "cell_type": "markdown",
   "id": "260a7cd5",
   "metadata": {},
   "source": [
    "View pool cashflows"
   ]
  },
  {
   "cell_type": "code",
   "execution_count": 53,
   "id": "817dbb7b",
   "metadata": {},
   "outputs": [
    {
     "data": {
      "text/html": [
       "<div>\n",
       "<style scoped>\n",
       "    .dataframe tbody tr th:only-of-type {\n",
       "        vertical-align: middle;\n",
       "    }\n",
       "\n",
       "    .dataframe tbody tr th {\n",
       "        vertical-align: top;\n",
       "    }\n",
       "\n",
       "    .dataframe thead tr th {\n",
       "        text-align: left;\n",
       "    }\n",
       "\n",
       "    .dataframe thead tr:last-of-type th {\n",
       "        text-align: right;\n",
       "    }\n",
       "</style>\n",
       "<table border=\"1\" class=\"dataframe\">\n",
       "  <thead>\n",
       "    <tr>\n",
       "      <th>Scenario</th>\n",
       "      <th colspan=\"2\" halign=\"left\">CDR-0</th>\n",
       "      <th colspan=\"2\" halign=\"left\">CDR-1</th>\n",
       "      <th colspan=\"2\" halign=\"left\">CDR-2</th>\n",
       "    </tr>\n",
       "    <tr>\n",
       "      <th>Field</th>\n",
       "      <th>Balance</th>\n",
       "      <th>Default</th>\n",
       "      <th>Balance</th>\n",
       "      <th>Default</th>\n",
       "      <th>Balance</th>\n",
       "      <th>Default</th>\n",
       "    </tr>\n",
       "    <tr>\n",
       "      <th>Date</th>\n",
       "      <th></th>\n",
       "      <th></th>\n",
       "      <th></th>\n",
       "      <th></th>\n",
       "      <th></th>\n",
       "      <th></th>\n",
       "    </tr>\n",
       "  </thead>\n",
       "  <tbody>\n",
       "    <tr>\n",
       "      <th>2021-06-15</th>\n",
       "      <td>2200.00</td>\n",
       "      <td>0</td>\n",
       "      <td>2200.00</td>\n",
       "      <td>0.00</td>\n",
       "      <td>2200.00</td>\n",
       "      <td>0.00</td>\n",
       "    </tr>\n",
       "    <tr>\n",
       "      <th>2021-06-30</th>\n",
       "      <td>2200.00</td>\n",
       "      <td>0</td>\n",
       "      <td>2200.00</td>\n",
       "      <td>0.00</td>\n",
       "      <td>2200.00</td>\n",
       "      <td>0.00</td>\n",
       "    </tr>\n",
       "    <tr>\n",
       "      <th>2021-07-31</th>\n",
       "      <td>2115.17</td>\n",
       "      <td>0</td>\n",
       "      <td>2113.43</td>\n",
       "      <td>1.81</td>\n",
       "      <td>2111.66</td>\n",
       "      <td>3.65</td>\n",
       "    </tr>\n",
       "    <tr>\n",
       "      <th>2021-08-31</th>\n",
       "      <td>2029.77</td>\n",
       "      <td>0</td>\n",
       "      <td>2026.37</td>\n",
       "      <td>1.80</td>\n",
       "      <td>2022.93</td>\n",
       "      <td>3.62</td>\n",
       "    </tr>\n",
       "    <tr>\n",
       "      <th>2021-09-30</th>\n",
       "      <td>1943.81</td>\n",
       "      <td>0</td>\n",
       "      <td>1938.90</td>\n",
       "      <td>1.72</td>\n",
       "      <td>1933.94</td>\n",
       "      <td>3.46</td>\n",
       "    </tr>\n",
       "  </tbody>\n",
       "</table>\n",
       "</div>"
      ],
      "text/plain": [
       "Scenario      CDR-0            CDR-1            CDR-2        \n",
       "Field       Balance Default  Balance Default  Balance Default\n",
       "Date                                                         \n",
       "2021-06-15  2200.00       0  2200.00    0.00  2200.00    0.00\n",
       "2021-06-30  2200.00       0  2200.00    0.00  2200.00    0.00\n",
       "2021-07-31  2115.17       0  2113.43    1.81  2111.66    3.65\n",
       "2021-08-31  2029.77       0  2026.37    1.80  2022.93    3.62\n",
       "2021-09-30  1943.81       0  1938.90    1.72  1933.94    3.46"
      ]
     },
     "execution_count": 53,
     "metadata": {},
     "output_type": "execute_result"
    }
   ],
   "source": [
    "from absbox import readMultiFlowsByScenarios\n",
    "readMultiFlowsByScenarios(rs, (lens['pool']['flow'],[\"Balance\",'Default'])).head()"
   ]
  },
  {
   "cell_type": "markdown",
   "id": "320a9a7c",
   "metadata": {},
   "source": [
    "By writing a small function to calculate unhendge amount,we are able to tell in all the scenarios, the unhedge amount"
   ]
  },
  {
   "cell_type": "code",
   "execution_count": 54,
   "id": "77c1499e",
   "metadata": {},
   "outputs": [
    {
     "data": {
      "text/plain": [
       "{'CDR-0': 0.0, 'CDR-1': 41.449999999999996, 'CDR-2': 81.19999999999999}"
      ]
     },
     "execution_count": 54,
     "metadata": {},
     "output_type": "execute_result"
    }
   ],
   "source": [
    "from pyxirr import xirr\n",
    "\n",
    "def unHedgeAmount(x:dict):\n",
    "    \"x is the single run result\"\n",
    "    \n",
    "    poolLoss = x['pool']['flow'].Loss.sum()\n",
    "    hedgedAmount = x['accounts']['srtAcc'].loc[lambda df: df.memo == \"<Support:originator>\"].change.sum()\n",
    "    \n",
    "    return max(poolLoss - hedgedAmount,0)\n",
    "\n",
    "tz.valmap(unHedgeAmount, rs)"
   ]
  },
  {
   "cell_type": "markdown",
   "id": "1263c1a8",
   "metadata": {},
   "source": [
    "#### Others ?\n",
    "\n",
    "Actuall `absbox` is flexible enough to perform sensitivity analysis on any two variables :\n",
    "\n",
    "* It could be reinvestment rate v.s IRR on SRT tranche..\n",
    "* It could be capital structure v.s IRR on SRT tranche.."
   ]
  },
  {
   "cell_type": "markdown",
   "id": "e36c4c50",
   "metadata": {},
   "source": [
    "### SRT with 3 tranches"
   ]
  },
  {
   "cell_type": "markdown",
   "id": "e82ad65e",
   "metadata": {},
   "source": [
    "The key for 3 tranches is , the `srtAcc` only move funds to the loss which is the excess amount over the first loss tranche"
   ]
  },
  {
   "cell_type": "code",
   "execution_count": 55,
   "id": "e3b9c7fa",
   "metadata": {},
   "outputs": [],
   "source": [
    "firstLossTranche = 5\n",
    "\n",
    "formulaToCurLoss = (\"excess\", (\"cumPoolNetLoss\",)\n",
    "                            , (\"abs\",(\"accountTxnAmount\",\"<Support:originator>\",\"srtAcc\"))\n",
    "                            , (\"originalBondBalance\",\"C\"))"
   ]
  },
  {
   "cell_type": "code",
   "execution_count": 56,
   "id": "522418dc",
   "metadata": {},
   "outputs": [],
   "source": [
    "seniorBalance = 1000\n",
    "srtTrancheBal = 200\n",
    "\n",
    "srtRate = 0.08\n",
    "closingDate = \"2021-06-15\"\n",
    "periodPrincipal = (\"curPoolCollection\", None, \"Principal\",\"Prepayment\",\"Recovery\")\n",
    "reinvestRate = 0.00\n",
    "\n",
    "\n",
    "\n",
    "srt02 = Generic(\n",
    "    \"SRT Example\"\n",
    "    ,{\"cutoff\":\"2021-06-01\",\"closing\":closingDate,\"firstPay\":\"2021-07-20\"\n",
    "     ,\"payFreq\":[\"DayOfMonth\",20],\"poolFreq\":\"MonthEnd\",\"stated\":\"2030-01-01\"}\n",
    "    ,{'assets':[[\"Mortgage\"\n",
    "        ,{\"originBalance\":2200,\"originRate\":[\"fix\",0.045],\"originTerm\":24\n",
    "          ,\"freq\":\"Monthly\",\"type\":\"Level\",\"originDate\":\"2021-06-01\"}\n",
    "          ,{\"currentBalance\":2200\n",
    "          ,\"currentRate\":0.08\n",
    "          ,\"remainTerm\":24\n",
    "          ,\"status\":\"current\"}]],\n",
    "     }\n",
    "    ,((\"acc01\",{\"balance\":0})\n",
    "      ,(\"srtAcc\",{\"balance\":0.0\n",
    "                  ,\"interest\":{\"period\":\"QuarterEnd\"\n",
    "                               ,\"rate\":reinvestRate\n",
    "                               ,\"lastSettleDate\":closingDate}})\n",
    "      ,(\"dummy\",{\"balance\":0.0})\n",
    "      ,)\n",
    "    ,((\"A1\",{\"balance\":seniorBalance\n",
    "             ,\"rate\":0.00\n",
    "             ,\"originBalance\":seniorBalance\n",
    "             ,\"originRate\":0.00\n",
    "             ,\"startDate\":closingDate\n",
    "             ,\"rateType\":{\"Fixed\":0.00}\n",
    "             ,\"bondType\":{\"Sequential\":None}})\n",
    "      ,(\"B\",{\"balance\":0.0\n",
    "             ,\"rate\":srtRate\n",
    "             ,\"originBalance\":0\n",
    "             ,\"originRate\":srtRate\n",
    "             ,\"startDate\":closingDate\n",
    "             ,\"rateType\":{\"Fixed\":srtRate}\n",
    "             ,\"bondType\":{\"Sequential\":None}\n",
    "             })\n",
    "      ,(\"C\",{\"balance\":firstLossTranche\n",
    "             ,\"rate\":0.0\n",
    "             ,\"originBalance\":firstLossTranche\n",
    "             ,\"originRate\":0.0\n",
    "             ,\"startDate\":closingDate\n",
    "             ,\"rateType\":{\"Fixed\":0.0}\n",
    "             ,\"bondType\":{\"Sequential\":None}\n",
    "             })     \n",
    "     )\n",
    "    ,tuple()\n",
    "    ,{\"amortizing\":[\n",
    "          # pay prorata to senior and SRT tranch\n",
    "         [\"calcInt\",\"B\"]\n",
    "         ,[\"payInt\",\"dummy\",[\"B\"],{\"support\":[\"facility\",\"originator\"]}]\n",
    "         ,[\"calcBondPrin\",[\"A1\",\"B\"],{\"formula\":periodPrincipal}] \n",
    "         ,[\"payPrinWithDue\",\"acc01\",[\"A1\"]]         \n",
    "         ,[\"payPrinWithDue\",\"srtAcc\",[\"B\"]]\n",
    "         ,[\"If\", [('isPaidOff',\"A1\",\"B\"),True]\n",
    "           ,[\"payPrin\",\"acc01\",[\"C\"]]]\n",
    "     ],\n",
    "      \"closingDay\":[[\"fundWith\",\"srtAcc\",\"B\",{\"formula\":(\"const\",srtTrancheBal)}]],\n",
    "      \"endOfCollection\":[\n",
    "          # draw loss amount and pay to originator\n",
    "          [\"liqRepayResidual\",\"srtAcc\", \"originator\", {\"formula\":formulaToCurLoss}]\n",
    "      ],\n",
    "      \"cleanUp\":[\n",
    "          [\"payIntResidual\",\"srtAcc\",\"B\"]\n",
    "      ]\n",
    "     }\n",
    "    ,[[\"CollectedInterest\",\"acc01\"]\n",
    "      ,[\"CollectedPrincipal\",\"acc01\"]\n",
    "      ,[\"CollectedPrepayment\",\"acc01\"]\n",
    "      ,[\"CollectedRecoveries\",\"acc01\"]]\n",
    "    ,{\"originator\":{\"type\" : \"Unlimited\", \"start\": closingDate}}\n",
    "    ,None\n",
    "    ,None\n",
    "    ,None\n",
    "    ,(\"PreClosing\",\"Amortizing\")\n",
    "    )"
   ]
  },
  {
   "cell_type": "code",
   "execution_count": 57,
   "id": "684ea2ca",
   "metadata": {},
   "outputs": [
    {
     "data": {
      "text/html": [
       "<pre style=\"white-space:pre;overflow-x:auto;line-height:normal;font-family:Menlo,'DejaVu Sans Mono',consolas,'Courier New',monospace\">Warning Message from server:\n",
       "<span style=\"color: #808000; text-decoration-color: #808000; font-weight: bold\">Bond B is not paid off</span>\n",
       "<span style=\"color: #808000; text-decoration-color: #808000; font-weight: bold\">Bond C is not paid off</span>\n",
       "<span style=\"color: #808000; text-decoration-color: #808000; font-weight: bold\">Account acc01 has cash to be distributed</span>\n",
       "<span style=\"color: #808000; text-decoration-color: #808000; font-weight: bold\">LiquidityProvider originator is not paid off</span>\n",
       "</pre>\n"
      ],
      "text/plain": [
       "Warning Message from server:\n",
       "\u001b[1;33mBond B is not paid off\u001b[0m\n",
       "\u001b[1;33mBond C is not paid off\u001b[0m\n",
       "\u001b[1;33mAccount acc01 has cash to be distributed\u001b[0m\n",
       "\u001b[1;33mLiquidityProvider originator is not paid off\u001b[0m\n"
      ]
     },
     "metadata": {},
     "output_type": "display_data"
    }
   ],
   "source": [
    "from absbox import API,EnginePath\n",
    "\n",
    "r02 = localAPI.run(srt02\n",
    "                ,poolAssump=(\"Pool\",(\"Mortgage\", {\"CDR\":0.01}, None, None, None)\n",
    "                                   ,None\n",
    "                                   ,None)\n",
    "                ,runAssump=[(\"call\",(\"poolFactor\",0.10))\n",
    "                           ,(\"inspect\"\n",
    "                             ,(\"MonthEnd\",(\"excess\", (\"cumPoolNetLoss\",)\n",
    "                                                 , (\"abs\",(\"accountTxnAmount\",\"<Support:originator>\",\"srtAcc\"))\n",
    "                                                 , (\"constant\",firstLossTranche))\n",
    "                                          ))\n",
    "                            ]\n",
    "                ,read=True)"
   ]
  },
  {
   "cell_type": "code",
   "execution_count": 58,
   "id": "44907e00",
   "metadata": {},
   "outputs": [
    {
     "data": {
      "text/html": [
       "<div>\n",
       "<style scoped>\n",
       "    .dataframe tbody tr th:only-of-type {\n",
       "        vertical-align: middle;\n",
       "    }\n",
       "\n",
       "    .dataframe tbody tr th {\n",
       "        vertical-align: top;\n",
       "    }\n",
       "\n",
       "    .dataframe thead tr th {\n",
       "        text-align: left;\n",
       "    }\n",
       "\n",
       "    .dataframe thead tr:last-of-type th {\n",
       "        text-align: right;\n",
       "    }\n",
       "</style>\n",
       "<table border=\"1\" class=\"dataframe\">\n",
       "  <thead>\n",
       "    <tr>\n",
       "      <th>Bond</th>\n",
       "      <th colspan=\"5\" halign=\"left\">A1</th>\n",
       "      <th colspan=\"5\" halign=\"left\">B</th>\n",
       "    </tr>\n",
       "    <tr>\n",
       "      <th>Field</th>\n",
       "      <th>balance</th>\n",
       "      <th>interest</th>\n",
       "      <th>principal</th>\n",
       "      <th>rate</th>\n",
       "      <th>cash</th>\n",
       "      <th>balance</th>\n",
       "      <th>interest</th>\n",
       "      <th>principal</th>\n",
       "      <th>rate</th>\n",
       "      <th>cash</th>\n",
       "    </tr>\n",
       "    <tr>\n",
       "      <th>date</th>\n",
       "      <th></th>\n",
       "      <th></th>\n",
       "      <th></th>\n",
       "      <th></th>\n",
       "      <th></th>\n",
       "      <th></th>\n",
       "      <th></th>\n",
       "      <th></th>\n",
       "      <th></th>\n",
       "      <th></th>\n",
       "    </tr>\n",
       "  </thead>\n",
       "  <tbody>\n",
       "    <tr>\n",
       "      <th>2021-06-15</th>\n",
       "      <td>NaN</td>\n",
       "      <td>NaN</td>\n",
       "      <td>NaN</td>\n",
       "      <td>NaN</td>\n",
       "      <td>NaN</td>\n",
       "      <td>200.00</td>\n",
       "      <td>0.00</td>\n",
       "      <td>-200.00</td>\n",
       "      <td>0.00</td>\n",
       "      <td>0.00</td>\n",
       "    </tr>\n",
       "    <tr>\n",
       "      <th>2021-07-20</th>\n",
       "      <td>1000.00</td>\n",
       "      <td>0.0</td>\n",
       "      <td>0.00</td>\n",
       "      <td>0.0</td>\n",
       "      <td>0.00</td>\n",
       "      <td>200.00</td>\n",
       "      <td>1.53</td>\n",
       "      <td>0.00</td>\n",
       "      <td>0.08</td>\n",
       "      <td>1.53</td>\n",
       "    </tr>\n",
       "    <tr>\n",
       "      <th>2021-08-20</th>\n",
       "      <td>929.37</td>\n",
       "      <td>0.0</td>\n",
       "      <td>70.63</td>\n",
       "      <td>0.0</td>\n",
       "      <td>70.63</td>\n",
       "      <td>185.88</td>\n",
       "      <td>1.35</td>\n",
       "      <td>14.12</td>\n",
       "      <td>0.08</td>\n",
       "      <td>15.47</td>\n",
       "    </tr>\n",
       "    <tr>\n",
       "      <th>2021-09-20</th>\n",
       "      <td>858.33</td>\n",
       "      <td>0.0</td>\n",
       "      <td>71.04</td>\n",
       "      <td>0.0</td>\n",
       "      <td>71.04</td>\n",
       "      <td>171.67</td>\n",
       "      <td>1.26</td>\n",
       "      <td>14.21</td>\n",
       "      <td>0.08</td>\n",
       "      <td>15.47</td>\n",
       "    </tr>\n",
       "    <tr>\n",
       "      <th>2021-10-20</th>\n",
       "      <td>786.88</td>\n",
       "      <td>0.0</td>\n",
       "      <td>71.45</td>\n",
       "      <td>0.0</td>\n",
       "      <td>71.45</td>\n",
       "      <td>157.38</td>\n",
       "      <td>1.12</td>\n",
       "      <td>14.29</td>\n",
       "      <td>0.08</td>\n",
       "      <td>15.41</td>\n",
       "    </tr>\n",
       "  </tbody>\n",
       "</table>\n",
       "</div>"
      ],
      "text/plain": [
       "Bond             A1                                      B                     \\\n",
       "Field       balance interest principal rate   cash balance interest principal   \n",
       "date                                                                            \n",
       "2021-06-15      NaN      NaN       NaN  NaN    NaN  200.00     0.00   -200.00   \n",
       "2021-07-20  1000.00      0.0      0.00  0.0   0.00  200.00     1.53      0.00   \n",
       "2021-08-20   929.37      0.0     70.63  0.0  70.63  185.88     1.35     14.12   \n",
       "2021-09-20   858.33      0.0     71.04  0.0  71.04  171.67     1.26     14.21   \n",
       "2021-10-20   786.88      0.0     71.45  0.0  71.45  157.38     1.12     14.29   \n",
       "\n",
       "Bond                     \n",
       "Field       rate   cash  \n",
       "date                     \n",
       "2021-06-15  0.00   0.00  \n",
       "2021-07-20  0.08   1.53  \n",
       "2021-08-20  0.08  15.47  \n",
       "2021-09-20  0.08  15.47  \n",
       "2021-10-20  0.08  15.41  "
      ]
     },
     "execution_count": 58,
     "metadata": {},
     "output_type": "execute_result"
    }
   ],
   "source": [
    "readBondsCf(r02['bonds']).head()"
   ]
  },
  {
   "cell_type": "markdown",
   "id": "aeb05d89",
   "metadata": {},
   "source": [
    "Now , the loss from the pool only will be cured from `srtAcc` account if cumulative loss is greater than `5`\n",
    "\n",
    "Here, at `2021-09-30`, the cumulative loss is 5.33 from the pool, the engine will only allocate `0.33` "
   ]
  },
  {
   "cell_type": "code",
   "execution_count": 59,
   "id": "470b159f",
   "metadata": {},
   "outputs": [
    {
     "data": {
      "text/html": [
       "<div>\n",
       "<style scoped>\n",
       "    .dataframe tbody tr th:only-of-type {\n",
       "        vertical-align: middle;\n",
       "    }\n",
       "\n",
       "    .dataframe tbody tr th {\n",
       "        vertical-align: top;\n",
       "    }\n",
       "\n",
       "    .dataframe thead th {\n",
       "        text-align: right;\n",
       "    }\n",
       "</style>\n",
       "<table border=\"1\" class=\"dataframe\">\n",
       "  <thead>\n",
       "    <tr style=\"text-align: right;\">\n",
       "      <th></th>\n",
       "      <th>balance</th>\n",
       "      <th>change</th>\n",
       "      <th>memo</th>\n",
       "      <th>CumLoss</th>\n",
       "    </tr>\n",
       "  </thead>\n",
       "  <tbody>\n",
       "    <tr>\n",
       "      <th>2021-09-30</th>\n",
       "      <td>171.67</td>\n",
       "      <td>0.00</td>\n",
       "      <td>&lt;BankInterest:&gt;</td>\n",
       "      <td>NaN</td>\n",
       "    </tr>\n",
       "    <tr>\n",
       "      <th>2021-09-30</th>\n",
       "      <td>171.34</td>\n",
       "      <td>-0.33</td>\n",
       "      <td>&lt;Support:originator&gt;</td>\n",
       "      <td>NaN</td>\n",
       "    </tr>\n",
       "    <tr>\n",
       "      <th>2021-09-30</th>\n",
       "      <td>NaN</td>\n",
       "      <td>NaN</td>\n",
       "      <td>NaN</td>\n",
       "      <td>5.33</td>\n",
       "    </tr>\n",
       "  </tbody>\n",
       "</table>\n",
       "</div>"
      ],
      "text/plain": [
       "            balance  change                  memo  CumLoss\n",
       "2021-09-30   171.67    0.00       <BankInterest:>      NaN\n",
       "2021-09-30   171.34   -0.33  <Support:originator>      NaN\n",
       "2021-09-30      NaN     NaN                   NaN     5.33"
      ]
     },
     "execution_count": 59,
     "metadata": {},
     "output_type": "execute_result"
    }
   ],
   "source": [
    "pd.concat([r02['accounts']['srtAcc'],r02['pool']['flow'].CumLoss.to_frame()]).sort_index().loc[\"2021-09-30\"]"
   ]
  },
  {
   "cell_type": "markdown",
   "id": "ebd90c2c",
   "metadata": {},
   "source": [
    "#### How thickness of FirstLossTranche would affect the IRR ?"
   ]
  },
  {
   "cell_type": "code",
   "execution_count": 60,
   "id": "0fcda130",
   "metadata": {},
   "outputs": [],
   "source": [
    "firstLossTrancheDraft = {\"FirstLoss-1\": 5,\"FirstLoss-2\":10,\"FirstLoss-3\":20}"
   ]
  },
  {
   "cell_type": "markdown",
   "id": "b4e99f43",
   "metadata": {},
   "source": [
    "build deal structures with a map( and lenses !)"
   ]
  },
  {
   "cell_type": "code",
   "execution_count": 61,
   "id": "17bfb804",
   "metadata": {},
   "outputs": [],
   "source": [
    "dealDrafts = tz.valmap(lambda x: srt02 & lens.bonds[2][1].Fork(lens['balance'],lens['originBalance']).set(x) \n",
    "                     ,firstLossTrancheDraft)"
   ]
  },
  {
   "cell_type": "markdown",
   "id": "0846733d",
   "metadata": {},
   "source": [
    "run differnt deal structures with funciton `runStructs()`"
   ]
  },
  {
   "cell_type": "code",
   "execution_count": 62,
   "id": "f97d5999",
   "metadata": {},
   "outputs": [],
   "source": [
    "rm02 = localAPI.runStructs(dealDrafts\n",
    "                        ,poolAssump=(\"Pool\",(\"Mortgage\", {\"CDR\":0.01}, None, None, None)\n",
    "                                           ,None\n",
    "                                           ,None)\n",
    "                        ,nonPoolAssump=[(\"call\",(\"poolFactor\",0.10))\n",
    "                                   ,(\"inspect\"\n",
    "                                     ,(\"MonthEnd\",(\"excess\", (\"cumPoolNetLoss\",)\n",
    "                                                         , (\"abs\",(\"accountTxnAmount\",\"<Support:originator>\",\"srtAcc\"))\n",
    "                                                         , (\"constant\",firstLossTranche))\n",
    "                                                  ))\n",
    "                                    ]\n",
    "                        ,read=True)"
   ]
  },
  {
   "cell_type": "code",
   "execution_count": 63,
   "id": "4f546cf6",
   "metadata": {},
   "outputs": [
    {
     "data": {
      "text/plain": [
       "{'FirstLoss-1': -0.008036217135081734,\n",
       " 'FirstLoss-2': 0.020824974743072763,\n",
       " 'FirstLoss-3': 0.08232329854365725}"
      ]
     },
     "execution_count": 63,
     "metadata": {},
     "output_type": "execute_result"
    }
   ],
   "source": [
    "tz.valmap(lambda x: calcIRR(x['bonds']['B'], (\"2021-06-15\",-200)), rm02)"
   ]
  }
 ],
 "metadata": {
  "kernelspec": {
   "display_name": "Python 3 (ipykernel)",
   "language": "python",
   "name": "python3"
  },
  "language_info": {
   "codemirror_mode": {
    "name": "ipython",
    "version": 3
   },
   "file_extension": ".py",
   "mimetype": "text/x-python",
   "name": "python",
   "nbconvert_exporter": "python",
   "pygments_lexer": "ipython3",
   "version": "3.11.9"
  }
 },
 "nbformat": 4,
 "nbformat_minor": 5
}
