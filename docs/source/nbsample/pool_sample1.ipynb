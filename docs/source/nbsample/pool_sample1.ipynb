{
 "cells": [
  {
   "cell_type": "markdown",
   "metadata": {},
   "source": [
    "### Run Asset Pool"
   ]
  },
  {
   "cell_type": "code",
   "execution_count": 1,
   "metadata": {},
   "outputs": [
    {
     "data": {
      "text/html": [
       "<pre style=\"white-space:pre;overflow-x:auto;line-height:normal;font-family:Menlo,'DejaVu Sans Mono',consolas,'Courier New',monospace\"><span style=\"color: #800080; text-decoration-color: #800080; font-weight: bold\">Connecting engine server -&gt; </span><span style=\"color: #800080; text-decoration-color: #800080; font-weight: bold; text-decoration: underline\">https://absbox.org/api/dev</span>\n",
       "</pre>\n"
      ],
      "text/plain": [
       "\u001b[1;35mConnecting engine server -> \u001b[0m\u001b[1;4;35mhttps://absbox.org/api/dev\u001b[0m\n"
      ]
     },
     "metadata": {},
     "output_type": "display_data"
    },
    {
     "data": {
      "text/html": [
       "<pre style=\"white-space:pre;overflow-x:auto;line-height:normal;font-family:Menlo,'DejaVu Sans Mono',consolas,'Courier New',monospace\">✅<span style=\"color: #008000; text-decoration-color: #008000; font-weight: bold\">Connected, local lib:0.</span><span style=\"color: #008000; text-decoration-color: #008000; font-weight: bold\">26.8</span><span style=\"color: #008000; text-decoration-color: #008000; font-weight: bold\">, server:</span><span style=\"color: #008000; text-decoration-color: #008000; font-weight: bold\">0.26</span><span style=\"color: #008000; text-decoration-color: #008000; font-weight: bold\">.</span><span style=\"color: #008000; text-decoration-color: #008000; font-weight: bold\">5</span>\n",
       "</pre>\n"
      ],
      "text/plain": [
       "✅\u001b[1;32mConnected, local li\u001b[0m\u001b[1;32mb:0\u001b[0m\u001b[1;32m.\u001b[0m\u001b[1;32m26.8\u001b[0m\u001b[1;32m, server:\u001b[0m\u001b[1;32m0.26\u001b[0m\u001b[1;32m.\u001b[0m\u001b[1;32m5\u001b[0m\n"
      ]
     },
     "metadata": {},
     "output_type": "display_data"
    }
   ],
   "source": [
    "from absbox import API,EnginePath\n",
    "\n",
    "localAPI = API(EnginePath.DEV, lang='english',check=False)"
   ]
  },
  {
   "cell_type": "markdown",
   "metadata": {},
   "source": [
    "#### Pool\n",
    "\n",
    "In `Pool` , it will have a field named `assets` ,which contains a list of `assets`"
   ]
  },
  {
   "cell_type": "code",
   "execution_count": 9,
   "metadata": {},
   "outputs": [
    {
     "data": {
      "text/plain": [
       "{'HistoryDefaults': 17.77, 'HistoryDelinquency': 0, 'HistoryLoss': 17.77}"
      ]
     },
     "execution_count": 9,
     "metadata": {},
     "output_type": "execute_result"
    }
   ],
   "source": [
    "mortgage1 = [\"Mortgage\"\n",
    "            ,{\"originBalance\": 12000.0\n",
    "            ,\"originRate\": [\"fix\",0.045]\n",
    "            ,\"originTerm\": 40\n",
    "            ,\"freq\": \"monthly\"\n",
    "            ,\"type\": \"level\"\n",
    "            ,\"originDate\": \"2021-02-01\"}\n",
    "            ,{\"currentBalance\": 10000.0\n",
    "            ,\"currentRate\": 0.075\n",
    "            ,\"remainTerm\": 30\n",
    "            ,\"status\": \"current\"}]\n",
    "\n",
    "mortgage2 = [\"Mortgage\"\n",
    "            ,{\"originBalance\": 800.0\n",
    "            ,\"originRate\": [\"fix\",0.045]\n",
    "            ,\"originTerm\": 25\n",
    "            ,\"freq\": \"monthly\"\n",
    "            ,\"type\": \"level\"\n",
    "            ,\"originDate\": \"2021-02-01\"}\n",
    "            ,{\"currentBalance\": 600.0\n",
    "            ,\"currentRate\": 0.075\n",
    "            ,\"remainTerm\": 15\n",
    "            ,\"status\": \"current\"}]\n",
    "\n",
    "myPool = {'assets':[ mortgage1, mortgage2  ],\n",
    "         'cutoffDate':\"2022-03-01\"}"
   ]
  },
  {
   "cell_type": "code",
   "execution_count": null,
   "metadata": {},
   "outputs": [
    {
     "data": {
      "text/plain": [
       "[('2022-03-01', 9542.79, 345.8, 61.8, 0, 7.62, 0, 7.62, 0.075, None, None, 345.8, 0, 0, 7.62, 0, 7.62),\n",
       " ('2022-04-01', 9186.98, 347.68, 59.58, 0, 8.13, 0, 8.13, 0.075, None, None, 693.48, 0, 0, 15.75, 0, 15.75),\n",
       " ('2022-05-01', 8829.85, 349.56, 57.36, 0, 7.57, 0, 7.57, 0.075, None, None, 1043.04, 0, 0, 23.32, 0, 23.32),\n",
       " ('2022-06-01', 8470.88, 351.45, 55.13, 0, 7.52, 0, 7.52, 0.075, None, None, 1394.49, 0, 0, 30.84, 0, 30.84),\n",
       " ('2022-07-01', 8110.54, 353.35, 52.89, 0, 6.99, 0, 6.99, 0.075, None, None, 1747.84, 0, 0, 37.83, 0, 37.83),\n",
       " ('2022-08-01', 7748.37, 355.26, 50.64, 0, 6.91, 0, 6.91, 0.075, None, None, 2103.1, 0, 0, 44.74, 0, 44.74),\n",
       " ('2022-09-01', 7384.6, 357.17, 48.38, 0, 6.6, 0, 6.6, 0.075, None, None, 2460.27, 0, 0, 51.34, 0, 51.34),\n",
       " ('2022-10-01', 7019.39, 359.12, 46.1, 0, 6.09, 0, 6.09, 0.075, None, None, 2819.39, 0, 0, 57.43, 0, 57.43),\n",
       " ('2022-11-01', 6652.36, 361.05, 43.82, 0, 5.98, 0, 5.98, 0.075, None, None, 3180.44, 0, 0, 63.41, 0, 63.41),\n",
       " ('2022-12-01', 6283.87, 363.01, 41.53, 0, 5.48, 0, 5.48, 0.075, None, None, 3543.45, 0, 0, 68.89, 0, 68.89),\n",
       " ('2023-01-01', 5913.56, 364.96, 39.24, 0, 5.35, 0, 5.35, 0.075, None, None, 3908.41, 0, 0, 74.24, 0, 74.24),\n",
       " ('2023-02-01', 5541.59, 366.93, 36.92, 0, 5.04, 0, 5.04, 0.075, None, None, 4275.34, 0, 0, 79.28, 0, 79.28),\n",
       " ('2023-03-01', 5168.39, 368.94, 34.6, 0, 4.26, 0, 4.26, 0.075, None, None, 4644.28, 0, 0, 83.54, 0, 83.54),\n",
       " ('2023-04-01', 4834.54, 329.45, 32.27, 0, 4.4, 0, 4.4, 0.075, None, None, 4973.73, 0, 0, 87.94, 0, 87.94),\n",
       " ('2023-05-01', 4499.31, 331.24, 30.19, 0, 3.99, 0, 3.99, 0.075, None, None, 5304.97, 0, 0, 91.93, 0, 91.93),\n",
       " ('2023-06-01', 4162.45, 333.03, 28.09, 0, 3.83, 0, 3.83, 0.075, None, None, 5638., 0, 0, 95.76, 0, 95.76),\n",
       " ('2023-07-01', 3824.19, 334.83, 25.99, 0, 3.43, 0, 3.43, 0.075, None, None, 5972.83, 0, 0, 99.19, 0, 99.19),\n",
       " ('2023-08-01', 3484.3, 336.63, 23.88, 0, 3.26, 0, 3.26, 0.075, None, None, 6309.46, 0, 0, 102.45, 0, 102.45),\n",
       " ('2023-09-01', 3142.87, 338.46, 21.75, 0, 2.97, 0, 2.97, 0.075, None, None, 6647.92, 0, 0, 105.42, 0, 105.42),\n",
       " ('2023-10-01', 2799.99, 340.29, 19.62, 0, 2.59, 0, 2.59, 0.075, None, None, 6988.21, 0, 0, 108.01, 0, 108.01),\n",
       " ('2023-11-01', 2455.49, 342.12, 17.48, 0, 2.38, 0, 2.38, 0.075, None, None, 7330.33, 0, 0, 110.39, 0, 110.39),\n",
       " ('2023-12-01', 2109.49, 343.98, 15.33, 0, 2.02, 0, 2.02, 0.075, None, None, 7674.31, 0, 0, 112.41, 0, 112.41),\n",
       " ('2024-01-01', 1761.87, 345.83, 13.17, 0, 1.79, 0, 1.79, 0.075, None, None, 8020.14, 0, 0, 114.2, 0, 114.2),\n",
       " ('2024-02-01', 1412.67, 347.7, 11., 0, 1.5, 0, 1.5, 0.075, None, None, 8367.84, 0, 0, 115.7, 0, 115.7),\n",
       " ('2024-03-01', 1061.96, 349.59, 8.82, 0, 1.12, 0, 1.12, 0.075, None, None, 8717.43, 0, 0, 116.82, 0, 116.82),\n",
       " ('2024-04-01', 709.58, 351.48, 6.63, 0, 0.9, 0, 0.9, 0.075, None, None, 9068.91, 0, 0, 117.72, 0, 117.72),\n",
       " ('2024-05-01', 355.61, 353.39, 4.43, 0, 0.58, 0, 0.58, 0.075, None, None, 9422.3, 0, 0, 118.3, 0, 118.3),\n",
       " ('2024-06-01', 0., 355.31, 2.22, 0, 0.3, 0, 0.3, 0.075, None, None, 9777.61, 0, 0, 118.6, 0, 118.6)]"
      ]
     },
     "execution_count": 12,
     "metadata": {},
     "output_type": "execute_result"
    }
   ],
   "source": [
    "r = localAPI.runPool(myPool\n",
    "                  ,poolAssump=(\"Pool\",(\"Mortgage\",{\"CDR\":0.01},None,None,None)\n",
    "                                    ,None\n",
    "                                    ,None)\n",
    "                  ,read=True)\n",
    "\n",
    "r['PoolConsol'][0]"
   ]
  },
  {
   "cell_type": "markdown",
   "metadata": {},
   "source": [
    "#### Cutoff day\n",
    "\n",
    "`Cutoff day` means the day after which assets's cashflow belongs to the pool"
   ]
  },
  {
   "cell_type": "code",
   "execution_count": 13,
   "metadata": {},
   "outputs": [
    {
     "data": {
      "text/plain": [
       "[('2023-03-01', 5168.39, 368.94, 34.6, 0, 4.26, 0, 4.26, 0.075, None, None, 368.94, 0, 0, 4.26, 0, 4.26),\n",
       " ('2023-04-01', 4834.54, 329.45, 32.27, 0, 4.4, 0, 4.4, 0.075, None, None, 698.39, 0, 0, 8.66, 0, 8.66),\n",
       " ('2023-05-01', 4499.31, 331.24, 30.19, 0, 3.99, 0, 3.99, 0.075, None, None, 1029.63, 0, 0, 12.65, 0, 12.65),\n",
       " ('2023-06-01', 4162.45, 333.03, 28.09, 0, 3.83, 0, 3.83, 0.075, None, None, 1362.66, 0, 0, 16.48, 0, 16.48),\n",
       " ('2023-07-01', 3824.19, 334.83, 25.99, 0, 3.43, 0, 3.43, 0.075, None, None, 1697.49, 0, 0, 19.91, 0, 19.91),\n",
       " ('2023-08-01', 3484.3, 336.63, 23.88, 0, 3.26, 0, 3.26, 0.075, None, None, 2034.12, 0, 0, 23.17, 0, 23.17),\n",
       " ('2023-09-01', 3142.87, 338.46, 21.75, 0, 2.97, 0, 2.97, 0.075, None, None, 2372.58, 0, 0, 26.14, 0, 26.14),\n",
       " ('2023-10-01', 2799.99, 340.29, 19.62, 0, 2.59, 0, 2.59, 0.075, None, None, 2712.87, 0, 0, 28.73, 0, 28.73),\n",
       " ('2023-11-01', 2455.49, 342.12, 17.48, 0, 2.38, 0, 2.38, 0.075, None, None, 3054.99, 0, 0, 31.11, 0, 31.11),\n",
       " ('2023-12-01', 2109.49, 343.98, 15.33, 0, 2.02, 0, 2.02, 0.075, None, None, 3398.97, 0, 0, 33.13, 0, 33.13),\n",
       " ('2024-01-01', 1761.87, 345.83, 13.17, 0, 1.79, 0, 1.79, 0.075, None, None, 3744.8, 0, 0, 34.92, 0, 34.92),\n",
       " ('2024-02-01', 1412.67, 347.7, 11., 0, 1.5, 0, 1.5, 0.075, None, None, 4092.5, 0, 0, 36.42, 0, 36.42),\n",
       " ('2024-03-01', 1061.96, 349.59, 8.82, 0, 1.12, 0, 1.12, 0.075, None, None, 4442.09, 0, 0, 37.54, 0, 37.54),\n",
       " ('2024-04-01', 709.58, 351.48, 6.63, 0, 0.9, 0, 0.9, 0.075, None, None, 4793.57, 0, 0, 38.44, 0, 38.44),\n",
       " ('2024-05-01', 355.61, 353.39, 4.43, 0, 0.58, 0, 0.58, 0.075, None, None, 5146.96, 0, 0, 39.02, 0, 39.02),\n",
       " ('2024-06-01', 0., 355.31, 2.22, 0, 0.3, 0, 0.3, 0.075, None, None, 5502.27, 0, 0, 39.32, 0, 39.32)]"
      ]
     },
     "execution_count": 13,
     "metadata": {},
     "output_type": "execute_result"
    }
   ],
   "source": [
    "myPool = {'assets':[ mortgage1, mortgage2  ],\n",
    "         'cutoffDate':\"2023-03-01\"}\n",
    "\n",
    "r = localAPI.runPool(myPool\n",
    "                  ,poolAssump=(\"Pool\",(\"Mortgage\",{\"CDR\":0.01},None,None,None)\n",
    "                                    ,None\n",
    "                                    ,None)\n",
    "                  ,read=True)\n",
    "\n",
    "list(r['PoolConsol'][0].to_records())"
   ]
  },
  {
   "cell_type": "markdown",
   "metadata": {},
   "source": [
    "#### Mixed Asset Pool\n",
    "\n",
    "User can build multiple pools with different asset type"
   ]
  },
  {
   "cell_type": "code",
   "execution_count": null,
   "metadata": {},
   "outputs": [],
   "source": [
    "receivable1 = [\"Invoice\"\n",
    "                  ,{\"start\":\"2024-04-01\",\"originBalance\":2000\n",
    "                    ,\"originAdvance\":1500,\"dueDate\":\"2024-06-01\"}\n",
    "                  ,{\"status\":\"Current\"}]\n",
    "\n",
    "myMixedPool = {\"invoicePool\": {'assets':[receivable1],}\n",
    "              ,\"mortgagePool\": {'assets':[mortgage1]}\n",
    "              ,'cutoffDate':\"2022-03-01\"}"
   ]
  },
  {
   "cell_type": "markdown",
   "metadata": {},
   "source": [
    "Without any stress assumption, the return result will be a map, which keys are the pool name"
   ]
  },
  {
   "cell_type": "code",
   "execution_count": null,
   "metadata": {},
   "outputs": [
    {
     "ename": "",
     "evalue": "",
     "output_type": "error",
     "traceback": [
      "\u001b[1;31mRunning cells with 'Python 3.12.3' requires the ipykernel package.\n",
      "\u001b[1;31mRun the following command to install 'ipykernel' into the Python environment. \n",
      "\u001b[1;31mCommand: '/opt/homebrew/bin/python3 -m pip install ipykernel -U --user --force-reinstall'"
     ]
    }
   ],
   "source": [
    "r = localAPI.runPool(myMixedPool,read=True)\n",
    "\n",
    "list(r['invoicePool'][0].to_records())"
   ]
  },
  {
   "cell_type": "code",
   "execution_count": null,
   "metadata": {},
   "outputs": [],
   "source": [
    "r['mortgagePool'][0]"
   ]
  },
  {
   "cell_type": "markdown",
   "metadata": {},
   "source": [
    "Set assumptions to the pools\n",
    "* passing a tuple with key ``ByPoolID`` to pool Assumption\n",
    "* a map with key equals to the name of pool"
   ]
  },
  {
   "cell_type": "code",
   "execution_count": null,
   "metadata": {},
   "outputs": [
    {
     "ename": "",
     "evalue": "",
     "output_type": "error",
     "traceback": [
      "\u001b[1;31mRunning cells with 'Python 3.12.3' requires the ipykernel package.\n",
      "\u001b[1;31mRun the following command to install 'ipykernel' into the Python environment. \n",
      "\u001b[1;31mCommand: '/opt/homebrew/bin/python3 -m pip install ipykernel -U --user --force-reinstall'"
     ]
    }
   ],
   "source": [
    "mPoolAssump = (\"Pool\",\n",
    "               (\"Mortgage\",{\"CDR\":0.01},None,None,None)\n",
    "                ,None\n",
    "                ,None)\n",
    "\n",
    "iPoolAssump = (\"Pool\"\n",
    "                ,(\"Receivable\", {\"CDR\":0.01}, None, None)\n",
    "                ,None\n",
    "                ,None)\n",
    "\n",
    "\n",
    "r = localAPI.runPool(myMixedPool\n",
    "                  ,poolAssump = (\"ByPoolId\",\n",
    "                                    {\"invoicePool\":iPoolAssump\n",
    "                                    ,\"mortgagePool\":mPoolAssump}\n",
    "                                    )\n",
    "                  ,read=True)"
   ]
  },
  {
   "cell_type": "markdown",
   "metadata": {},
   "source": []
  }
 ],
 "metadata": {
  "kernelspec": {
   "display_name": "Python 3",
   "language": "python",
   "name": "python3"
  },
  "language_info": {
   "codemirror_mode": {
    "name": "ipython",
    "version": 3
   },
   "file_extension": ".py",
   "mimetype": "text/x-python",
   "name": "python",
   "nbconvert_exporter": "python",
   "pygments_lexer": "ipython3",
   "version": "3.12.3"
  }
 },
 "nbformat": 4,
 "nbformat_minor": 2
}
