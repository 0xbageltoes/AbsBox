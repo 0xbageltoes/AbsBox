{
 "cells": [
  {
   "cell_type": "markdown",
   "id": "28fb676a",
   "metadata": {},
   "source": [
    "### Read Multiple Result Map"
   ]
  },
  {
   "cell_type": "code",
   "execution_count": 5,
   "id": "3499a89a",
   "metadata": {},
   "outputs": [
    {
     "data": {
      "text/html": [
       "<pre style=\"white-space:pre;overflow-x:auto;line-height:normal;font-family:Menlo,'DejaVu Sans Mono',consolas,'Courier New',monospace\"><span style=\"color: #800080; text-decoration-color: #800080; font-weight: bold\">Connecting engine server -&gt; </span><span style=\"color: #800080; text-decoration-color: #800080; font-weight: bold; text-decoration: underline\">https://absbox.org/api/dev</span>\n",
       "</pre>\n"
      ],
      "text/plain": [
       "\u001b[1;35mConnecting engine server -> \u001b[0m\u001b[1;4;35mhttps://absbox.org/api/dev\u001b[0m\n"
      ]
     },
     "metadata": {},
     "output_type": "display_data"
    },
    {
     "data": {
      "text/html": [
       "<pre style=\"white-space:pre;overflow-x:auto;line-height:normal;font-family:Menlo,'DejaVu Sans Mono',consolas,'Courier New',monospace\">✅<span style=\"color: #008000; text-decoration-color: #008000; font-weight: bold\">Connected, local lib:0.</span><span style=\"color: #008000; text-decoration-color: #008000; font-weight: bold\">26.4</span><span style=\"color: #008000; text-decoration-color: #008000; font-weight: bold\">, server:</span><span style=\"color: #008000; text-decoration-color: #008000; font-weight: bold\">0.27</span><span style=\"color: #008000; text-decoration-color: #008000; font-weight: bold\">.</span><span style=\"color: #008000; text-decoration-color: #008000; font-weight: bold\">10</span>\n",
       "</pre>\n"
      ],
      "text/plain": [
       "✅\u001b[1;32mConnected, local li\u001b[0m\u001b[1;32mb:0\u001b[0m\u001b[1;32m.\u001b[0m\u001b[1;32m26.4\u001b[0m\u001b[1;32m, server:\u001b[0m\u001b[1;32m0.27\u001b[0m\u001b[1;32m.\u001b[0m\u001b[1;32m10\u001b[0m\n"
      ]
     },
     "metadata": {},
     "output_type": "display_data"
    }
   ],
   "source": [
    "from absbox import API,EnginePath\n",
    "localAPI = API(EnginePath.DEV,check=False)\n",
    "\n",
    "\n",
    "from absbox.examples import test01,test02"
   ]
  },
  {
   "cell_type": "markdown",
   "id": "187bc1bf",
   "metadata": {},
   "source": [
    "#### What is MultiResult ?\n",
    "\n",
    "`Multi Result` is just a map result return either by `runByScenarios()` or `runStructs()`"
   ]
  },
  {
   "cell_type": "code",
   "execution_count": 9,
   "id": "29657310",
   "metadata": {},
   "outputs": [],
   "source": [
    "rs1 = localAPI.runStructs({\"deal1\":test01,\"deal2\":test02}\n",
    "                         ,read=True)"
   ]
  },
  {
   "cell_type": "code",
   "execution_count": 6,
   "id": "33e5b779",
   "metadata": {},
   "outputs": [],
   "source": [
    "p1 = (\"Pool\",(\"Mortgage\",None,{\"CPR\":0.01},None,None)\n",
    "                                ,None\n",
    "                                ,None)\n",
    "\n",
    "p2 = (\"Pool\",(\"Mortgage\",None,{\"CPR\":0.02},None,None)\n",
    "                                ,None\n",
    "                                ,None)\n",
    "\n",
    "\n",
    "rs2 = localAPI.runByScenarios(test01\n",
    "                             ,{\"CPR=1%\":p1,\"CPR=2%\":p2}\n",
    "                             ,read=True)"
   ]
  },
  {
   "cell_type": "markdown",
   "id": "91d51585",
   "metadata": {},
   "source": [
    "#### readFlowsByScenarios()"
   ]
  },
  {
   "cell_type": "code",
   "execution_count": 7,
   "id": "f08ccf28",
   "metadata": {},
   "outputs": [],
   "source": [
    "from absbox import readFlowsByScenarios"
   ]
  },
  {
   "cell_type": "code",
   "execution_count": 15,
   "id": "84d263ee",
   "metadata": {},
   "outputs": [
    {
     "data": {
      "text/html": [
       "<div>\n",
       "<style scoped>\n",
       "    .dataframe tbody tr th:only-of-type {\n",
       "        vertical-align: middle;\n",
       "    }\n",
       "\n",
       "    .dataframe tbody tr th {\n",
       "        vertical-align: top;\n",
       "    }\n",
       "\n",
       "    .dataframe thead th {\n",
       "        text-align: right;\n",
       "    }\n",
       "</style>\n",
       "<table border=\"1\" class=\"dataframe\">\n",
       "  <thead>\n",
       "    <tr style=\"text-align: right;\">\n",
       "      <th></th>\n",
       "      <th>deal1:balance</th>\n",
       "      <th>deal2:balance</th>\n",
       "    </tr>\n",
       "    <tr>\n",
       "      <th>date</th>\n",
       "      <th></th>\n",
       "      <th></th>\n",
       "    </tr>\n",
       "  </thead>\n",
       "  <tbody>\n",
       "    <tr>\n",
       "      <th>2021-06-20</th>\n",
       "      <td>543.90</td>\n",
       "      <td>340.83</td>\n",
       "    </tr>\n",
       "    <tr>\n",
       "      <th>2021-07-20</th>\n",
       "      <td>429.17</td>\n",
       "      <td>224.94</td>\n",
       "    </tr>\n",
       "    <tr>\n",
       "      <th>2021-08-20</th>\n",
       "      <td>313.86</td>\n",
       "      <td>108.41</td>\n",
       "    </tr>\n",
       "    <tr>\n",
       "      <th>2021-09-20</th>\n",
       "      <td>197.87</td>\n",
       "      <td>0.00</td>\n",
       "    </tr>\n",
       "    <tr>\n",
       "      <th>2021-10-20</th>\n",
       "      <td>81.15</td>\n",
       "      <td>NaN</td>\n",
       "    </tr>\n",
       "  </tbody>\n",
       "</table>\n",
       "</div>"
      ],
      "text/plain": [
       "            deal1:balance  deal2:balance\n",
       "date                                    \n",
       "2021-06-20         543.90         340.83\n",
       "2021-07-20         429.17         224.94\n",
       "2021-08-20         313.86         108.41\n",
       "2021-09-20         197.87           0.00\n",
       "2021-10-20          81.15            NaN"
      ]
     },
     "execution_count": 15,
     "metadata": {},
     "output_type": "execute_result"
    }
   ],
   "source": [
    "from lenses import lens\n",
    "\n",
    "readFlowsByScenarios(rs1, lens['bonds']['A1']['balance']).head()"
   ]
  },
  {
   "cell_type": "code",
   "execution_count": 16,
   "id": "e4a87f23",
   "metadata": {},
   "outputs": [
    {
     "data": {
      "text/html": [
       "<div>\n",
       "<style scoped>\n",
       "    .dataframe tbody tr th:only-of-type {\n",
       "        vertical-align: middle;\n",
       "    }\n",
       "\n",
       "    .dataframe tbody tr th {\n",
       "        vertical-align: top;\n",
       "    }\n",
       "\n",
       "    .dataframe thead th {\n",
       "        text-align: right;\n",
       "    }\n",
       "</style>\n",
       "<table border=\"1\" class=\"dataframe\">\n",
       "  <thead>\n",
       "    <tr style=\"text-align: right;\">\n",
       "      <th></th>\n",
       "      <th>balance</th>\n",
       "      <th>balance</th>\n",
       "    </tr>\n",
       "    <tr>\n",
       "      <th>date</th>\n",
       "      <th></th>\n",
       "      <th></th>\n",
       "    </tr>\n",
       "  </thead>\n",
       "  <tbody>\n",
       "    <tr>\n",
       "      <th>2021-06-20</th>\n",
       "      <td>543.90</td>\n",
       "      <td>340.83</td>\n",
       "    </tr>\n",
       "    <tr>\n",
       "      <th>2021-07-20</th>\n",
       "      <td>429.17</td>\n",
       "      <td>224.94</td>\n",
       "    </tr>\n",
       "    <tr>\n",
       "      <th>2021-08-20</th>\n",
       "      <td>313.86</td>\n",
       "      <td>108.41</td>\n",
       "    </tr>\n",
       "    <tr>\n",
       "      <th>2021-09-20</th>\n",
       "      <td>197.87</td>\n",
       "      <td>0.00</td>\n",
       "    </tr>\n",
       "    <tr>\n",
       "      <th>2021-10-20</th>\n",
       "      <td>81.15</td>\n",
       "      <td>NaN</td>\n",
       "    </tr>\n",
       "  </tbody>\n",
       "</table>\n",
       "</div>"
      ],
      "text/plain": [
       "            balance  balance\n",
       "date                        \n",
       "2021-06-20   543.90   340.83\n",
       "2021-07-20   429.17   224.94\n",
       "2021-08-20   313.86   108.41\n",
       "2021-09-20   197.87     0.00\n",
       "2021-10-20    81.15      NaN"
      ]
     },
     "execution_count": 16,
     "metadata": {},
     "output_type": "execute_result"
    }
   ],
   "source": [
    "readFlowsByScenarios(rs1, lens['bonds']['A1']['balance'], fullName=False).head()"
   ]
  },
  {
   "cell_type": "code",
   "execution_count": 19,
   "id": "c6d6fcfe",
   "metadata": {},
   "outputs": [
    {
     "data": {
      "text/html": [
       "<div>\n",
       "<style scoped>\n",
       "    .dataframe tbody tr th:only-of-type {\n",
       "        vertical-align: middle;\n",
       "    }\n",
       "\n",
       "    .dataframe tbody tr th {\n",
       "        vertical-align: top;\n",
       "    }\n",
       "\n",
       "    .dataframe thead th {\n",
       "        text-align: right;\n",
       "    }\n",
       "</style>\n",
       "<table border=\"1\" class=\"dataframe\">\n",
       "  <thead>\n",
       "    <tr style=\"text-align: right;\">\n",
       "      <th></th>\n",
       "      <th>CPR=1%:Prepayment</th>\n",
       "      <th>CPR=2%:Prepayment</th>\n",
       "    </tr>\n",
       "    <tr>\n",
       "      <th>Date</th>\n",
       "      <th></th>\n",
       "      <th></th>\n",
       "    </tr>\n",
       "  </thead>\n",
       "  <tbody>\n",
       "    <tr>\n",
       "      <th>2021-04-01</th>\n",
       "      <td>3.47</td>\n",
       "      <td>6.98</td>\n",
       "    </tr>\n",
       "    <tr>\n",
       "      <th>2021-05-01</th>\n",
       "      <td>1.64</td>\n",
       "      <td>3.29</td>\n",
       "    </tr>\n",
       "    <tr>\n",
       "      <th>2021-06-01</th>\n",
       "      <td>1.60</td>\n",
       "      <td>3.22</td>\n",
       "    </tr>\n",
       "    <tr>\n",
       "      <th>2021-07-01</th>\n",
       "      <td>1.46</td>\n",
       "      <td>2.93</td>\n",
       "    </tr>\n",
       "    <tr>\n",
       "      <th>2021-08-01</th>\n",
       "      <td>1.42</td>\n",
       "      <td>2.85</td>\n",
       "    </tr>\n",
       "  </tbody>\n",
       "</table>\n",
       "</div>"
      ],
      "text/plain": [
       "            CPR=1%:Prepayment  CPR=2%:Prepayment\n",
       "Date                                            \n",
       "2021-04-01               3.47               6.98\n",
       "2021-05-01               1.64               3.29\n",
       "2021-06-01               1.60               3.22\n",
       "2021-07-01               1.46               2.93\n",
       "2021-08-01               1.42               2.85"
      ]
     },
     "execution_count": 19,
     "metadata": {},
     "output_type": "execute_result"
    }
   ],
   "source": [
    "readFlowsByScenarios(rs2, lens['pool']['flow']['Prepayment']).head()"
   ]
  },
  {
   "cell_type": "code",
   "execution_count": null,
   "id": "a85002fc",
   "metadata": {},
   "outputs": [],
   "source": []
  }
 ],
 "metadata": {
  "kernelspec": {
   "display_name": "Python 3 (ipykernel)",
   "language": "python",
   "name": "python3"
  },
  "language_info": {
   "codemirror_mode": {
    "name": "ipython",
    "version": 3
   },
   "file_extension": ".py",
   "mimetype": "text/x-python",
   "name": "python",
   "nbconvert_exporter": "python",
   "pygments_lexer": "ipython3",
   "version": "3.11.9"
  }
 },
 "nbformat": 4,
 "nbformat_minor": 5
}
