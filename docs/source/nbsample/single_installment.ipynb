{
 "cells": [
  {
   "cell_type": "markdown",
   "metadata": {},
   "source": [
    "### Installment"
   ]
  },
  {
   "cell_type": "code",
   "execution_count": 1,
   "metadata": {},
   "outputs": [
    {
     "data": {
      "text/html": [
       "<pre style=\"white-space:pre;overflow-x:auto;line-height:normal;font-family:Menlo,'DejaVu Sans Mono',consolas,'Courier New',monospace\"><span style=\"color: #800080; text-decoration-color: #800080; font-weight: bold\">Connecting engine server -&gt; </span><span style=\"color: #800080; text-decoration-color: #800080; font-weight: bold; text-decoration: underline\">https://absbox.org/api/dev</span>\n",
       "</pre>\n"
      ],
      "text/plain": [
       "\u001b[1;35mConnecting engine server -> \u001b[0m\u001b[1;4;35mhttps://absbox.org/api/dev\u001b[0m\n"
      ]
     },
     "metadata": {},
     "output_type": "display_data"
    },
    {
     "data": {
      "text/html": [
       "<pre style=\"white-space:pre;overflow-x:auto;line-height:normal;font-family:Menlo,'DejaVu Sans Mono',consolas,'Courier New',monospace\">✅<span style=\"color: #008000; text-decoration-color: #008000; font-weight: bold\">Connected, local lib:0.</span><span style=\"color: #008000; text-decoration-color: #008000; font-weight: bold\">26.6</span><span style=\"color: #008000; text-decoration-color: #008000; font-weight: bold\">, server:</span><span style=\"color: #008000; text-decoration-color: #008000; font-weight: bold\">0.26</span><span style=\"color: #008000; text-decoration-color: #008000; font-weight: bold\">.</span><span style=\"color: #008000; text-decoration-color: #008000; font-weight: bold\">5</span>\n",
       "</pre>\n"
      ],
      "text/plain": [
       "✅\u001b[1;32mConnected, local li\u001b[0m\u001b[1;32mb:0\u001b[0m\u001b[1;32m.\u001b[0m\u001b[1;32m26.6\u001b[0m\u001b[1;32m, server:\u001b[0m\u001b[1;32m0.26\u001b[0m\u001b[1;32m.\u001b[0m\u001b[1;32m5\u001b[0m\n"
      ]
     },
     "metadata": {},
     "output_type": "display_data"
    }
   ],
   "source": [
    "from absbox import API\n",
    "\n",
    "localAPI = API(\"https://absbox.org/api/dev\",lang='english',check=False)"
   ]
  },
  {
   "cell_type": "code",
   "execution_count": 17,
   "metadata": {},
   "outputs": [],
   "source": [
    "installment = [\"Installment\"\n",
    "                    ,{\"originBalance\": 1000.0\n",
    "                    ,\"feeRate\": [\"fix\",0.01]\n",
    "                    ,\"originTerm\": 12\n",
    "                    ,\"freq\": \"Monthly\"\n",
    "                    ,\"type\": \"f_p\"\n",
    "                    ,\"originDate\": \"2022-01-01\"}\n",
    "                    ,{\"status\": \"Current\"\n",
    "                        ,\"currentBalance\":1000\n",
    "                        ,\"remainTerm\":8}]"
   ]
  },
  {
   "cell_type": "code",
   "execution_count": 19,
   "metadata": {},
   "outputs": [
    {
     "data": {
      "text/plain": [
       "[('2022-05-01', 1000., 0., 0., 0, 0, 0, 0, 0.01, 0., 0, 0, 0, 0, 0),\n",
       " ('2022-06-01', 875.01, 124.99, 14.99, 0, 0, 0, 0, 0.01, 124.99, 0, 0, 0, 0, 0),\n",
       " ('2022-07-01', 750.02, 124.99, 14.99, 0, 0, 0, 0, 0.01, 249.98, 0, 0, 0, 0, 0),\n",
       " ('2022-08-01', 625.03, 124.99, 14.99, 0, 0, 0, 0, 0.01, 374.97, 0, 0, 0, 0, 0),\n",
       " ('2022-09-01', 500.04, 124.99, 14.99, 0, 0, 0, 0, 0.01, 499.96, 0, 0, 0, 0, 0),\n",
       " ('2022-10-01', 375.05, 124.99, 14.99, 0, 0, 0, 0, 0.01, 624.95, 0, 0, 0, 0, 0),\n",
       " ('2022-11-01', 250.06, 124.99, 14.99, 0, 0, 0, 0, 0.01, 749.94, 0, 0, 0, 0, 0),\n",
       " ('2022-12-01', 125.07, 124.99, 14.99, 0, 0, 0, 0, 0.01, 874.93, 0, 0, 0, 0, 0),\n",
       " ('2023-01-01', 0., 125.07, 14.99, 0, 0, 0, 0, 0.01, 1000., 0, 0, 0, 0, 0)]"
      ]
     },
     "execution_count": 19,
     "metadata": {},
     "output_type": "execute_result"
    }
   ],
   "source": [
    "r = localAPI.runAsset(\"2022-01-02\"\n",
    "                     ,[installment]\n",
    "                     ,poolAssump=(\"Pool\"\n",
    "                                    ,(\"Installment\", None, None, None, None)\n",
    "                                    ,None\n",
    "                                    ,None)\n",
    "                     ,read=True)\n",
    "\n",
    "list(r[0].to_records())"
   ]
  },
  {
   "cell_type": "code",
   "execution_count": 20,
   "metadata": {},
   "outputs": [
    {
     "data": {
      "text/plain": [
       "[('2022-05-01', 1000., 0., 0., 0, 0., 0, 0., 0.01, 0., 0, 0, 0., 0, 0.),\n",
       " ('2022-06-01', 874.27, 124.88, 14.98, 0, 0.85, 0, 0.85, 0.01, 124.88, 0, 0, 0.85, 0, 0.85),\n",
       " ('2022-07-01', 748.77, 124.78, 14.97, 0, 0.72, 0, 0.72, 0.01, 249.66, 0, 0, 1.57, 0, 1.57),\n",
       " ('2022-08-01', 623.47, 124.67, 14.96, 0, 0.63, 0, 0.63, 0.01, 374.33, 0, 0, 2.2, 0, 2.2),\n",
       " ('2022-09-01', 498.38, 124.56, 14.94, 0, 0.53, 0, 0.53, 0.01, 498.89, 0, 0, 2.73, 0, 2.73),\n",
       " ('2022-10-01', 373.51, 124.46, 14.93, 0, 0.41, 0, 0.41, 0.01, 623.35, 0, 0, 3.14, 0, 3.14),\n",
       " ('2022-11-01', 248.84, 124.36, 14.92, 0, 0.31, 0, 0.31, 0.01, 747.71, 0, 0, 3.45, 0, 3.45),\n",
       " ('2022-12-01', 124.39, 124.25, 14.91, 0, 0.2, 0, 0.2, 0.01, 871.96, 0, 0, 3.65, 0, 3.65),\n",
       " ('2023-01-01', 0., 124.29, 14.89, 0, 0.1, 0, 0.1, 0.01, 996.25, 0, 0, 3.75, 0, 3.75)]"
      ]
     },
     "execution_count": 20,
     "metadata": {},
     "output_type": "execute_result"
    }
   ],
   "source": [
    "r = localAPI.runAsset(\"2022-01-02\"\n",
    "                     ,[installment]\n",
    "                     ,poolAssump=(\"Pool\"\n",
    "                                    ,(\"Installment\", {\"CDR\":0.01}, None, None, None)\n",
    "                                    ,None\n",
    "                                    ,None)\n",
    "                     ,read=True)\n",
    "\n",
    "list(r[0].to_records())"
   ]
  },
  {
   "cell_type": "code",
   "execution_count": 21,
   "metadata": {},
   "outputs": [
    {
     "data": {
      "text/plain": [
       "[('2022-05-01', 1000., 0., 0., 0., 0., 0, 0., 0.01, 0., 0., 0, 0., 0, 0.),\n",
       " ('2022-06-01', 873.53, 124.77, 14.97, 0.85, 0.85, 0, 0.85, 0.01, 124.77, 0.85, 0, 0.85, 0, 0.85),\n",
       " ('2022-07-01', 747.52, 124.57, 14.94, 0.72, 0.72, 0, 0.72, 0.01, 249.34, 1.57, 0, 1.57, 0, 1.57),\n",
       " ('2022-08-01', 621.9, 124.36, 14.92, 0.63, 0.63, 0, 0.63, 0.01, 373.7, 2.2, 0, 2.2, 0, 2.2),\n",
       " ('2022-09-01', 496.7, 124.14, 14.89, 0.53, 0.53, 0, 0.53, 0.01, 497.84, 2.73, 0, 2.73, 0, 2.73),\n",
       " ('2022-10-01', 371.95, 123.94, 14.87, 0.4, 0.41, 0, 0.41, 0.01, 621.78, 3.13, 0, 3.14, 0, 3.14),\n",
       " ('2022-11-01', 247.6, 123.73, 14.84, 0.31, 0.31, 0, 0.31, 0.01, 745.51, 3.44, 0, 3.45, 0, 3.45),\n",
       " ('2022-12-01', 123.68, 123.52, 14.82, 0.2, 0.2, 0, 0.2, 0.01, 869.03, 3.64, 0, 3.65, 0, 3.65),\n",
       " ('2023-01-01', 0., 123.48, 14.79, 0.1, 0.1, 0, 0.1, 0.01, 992.51, 3.74, 0, 3.75, 0, 3.75)]"
      ]
     },
     "execution_count": 21,
     "metadata": {},
     "output_type": "execute_result"
    }
   ],
   "source": [
    "r = localAPI.runAsset(\"2022-01-02\"\n",
    "                     ,[installment]\n",
    "                     ,poolAssump=(\"Pool\"\n",
    "                                    ,(\"Installment\", {\"CDR\":0.01}, {\"CPR\":0.01}, None, None)\n",
    "                                    ,None\n",
    "                                    ,None)\n",
    "                     ,read=True)\n",
    "\n",
    "list(r[0].to_records())"
   ]
  },
  {
   "cell_type": "code",
   "execution_count": null,
   "metadata": {},
   "outputs": [],
   "source": []
  }
 ],
 "metadata": {
  "kernelspec": {
   "display_name": "Python 3",
   "language": "python",
   "name": "python3"
  },
  "language_info": {
   "codemirror_mode": {
    "name": "ipython",
    "version": 3
   },
   "file_extension": ".py",
   "mimetype": "text/x-python",
   "name": "python",
   "nbconvert_exporter": "python",
   "pygments_lexer": "ipython3",
   "version": "3.11.6"
  }
 },
 "nbformat": 4,
 "nbformat_minor": 2
}
